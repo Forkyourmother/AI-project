{
 "cells": [
  {
   "cell_type": "raw",
   "metadata": {},
   "source": [
    "This tutorial/handson session is designed based on the Visual Turing Test tutorial in here:\n",
    "https://github.com/mateuszmalinowski/visual_turing_test-tutorial\n",
    "Visual Turing Challenge\n",
    "Mateusz Malinowski and Mario Fritz\n",
    "Max-Plank Institute\n",
    "\n",
    "Mehdi Ghanimifard"
   ]
  },
  {
   "cell_type": "markdown",
   "metadata": {},
   "source": [
    "# Tutorial on Simple Visual Question Answering "
   ]
  },
  {
   "cell_type": "markdown",
   "metadata": {},
   "source": [
    "### Understandin the challenge"
   ]
  },
  {
   "cell_type": "markdown",
   "metadata": {},
   "source": [
    "![](https://github.com/mateuszmalinowski/visual_turing_test-tutorial/raw/master/fig/challenges.jpg)"
   ]
  },
  {
   "cell_type": "markdown",
   "metadata": {},
   "source": [
    "### Download DAQUAR dataset"
   ]
  },
  {
   "cell_type": "code",
   "execution_count": 1,
   "metadata": {},
   "outputs": [
    {
     "name": "stdout",
     "output_type": "stream",
     "text": [
      "--2019-02-26 18:27:29--  https://raw.githubusercontent.com/mateuszmalinowski/visual_turing_test-tutorial/master/data/daquar/qa.894.raw.test.format_triple\n",
      "Resolving raw.githubusercontent.com (raw.githubusercontent.com)... 151.101.84.133\n",
      "Connecting to raw.githubusercontent.com (raw.githubusercontent.com)|151.101.84.133|:443... connected.\n",
      "HTTP request sent, awaiting response... 200 OK\n",
      "Length: 311863 (305K) [text/plain]\n",
      "Saving to: ‘data/daquar/qa.894.raw.test.format_triple.8’\n",
      "\n",
      "qa.894.raw.test.for 100%[===================>] 304.55K  --.-KB/s    in 0.009s  \n",
      "\n",
      "2019-02-26 18:27:30 (33.4 MB/s) - ‘data/daquar/qa.894.raw.test.format_triple.8’ saved [311863/311863]\n",
      "\n",
      "--2019-02-26 18:27:30--  https://raw.githubusercontent.com/mateuszmalinowski/visual_turing_test-tutorial/master/data/daquar/qa.894.raw.train.format_triple\n",
      "Resolving raw.githubusercontent.com (raw.githubusercontent.com)... 151.101.84.133\n",
      "Connecting to raw.githubusercontent.com (raw.githubusercontent.com)|151.101.84.133|:443... connected.\n",
      "HTTP request sent, awaiting response... 200 OK\n",
      "Length: 376483 (368K) [text/plain]\n",
      "Saving to: ‘data/daquar/qa.894.raw.train.format_triple.8’\n",
      "\n",
      "qa.894.raw.train.fo 100%[===================>] 367.66K  --.-KB/s    in 0.05s   \n",
      "\n",
      "2019-02-26 18:27:30 (7.03 MB/s) - ‘data/daquar/qa.894.raw.train.format_triple.8’ saved [376483/376483]\n",
      "\n",
      "--2019-02-26 18:27:30--  http://datasets.d2.mpi-inf.mpg.de/mateusz14visual-turing/nyu_depth_images.tar\n",
      "Resolving datasets.d2.mpi-inf.mpg.de (datasets.d2.mpi-inf.mpg.de)... 139.19.86.170\n",
      "Connecting to datasets.d2.mpi-inf.mpg.de (datasets.d2.mpi-inf.mpg.de)|139.19.86.170|:80... connected.\n",
      "HTTP request sent, awaiting response... 301 Moved Permanently\n",
      "Location: https://datasets.d2.mpi-inf.mpg.de/mateusz14visual-turing/nyu_depth_images.tar [following]\n",
      "--2019-02-26 18:27:31--  https://datasets.d2.mpi-inf.mpg.de/mateusz14visual-turing/nyu_depth_images.tar\n",
      "Connecting to datasets.d2.mpi-inf.mpg.de (datasets.d2.mpi-inf.mpg.de)|139.19.86.170|:443... connected.\n",
      "ERROR: The certificate of ‘datasets.d2.mpi-inf.mpg.de’ is not trusted.\n",
      "ERROR: The certificate of ‘datasets.d2.mpi-inf.mpg.de’ was signed using an insecure algorithm.\n",
      "tar: data/daquar/nyu_depth_images.tar: Cannot open: No such file or directory\n",
      "tar: Error is not recoverable: exiting now\n",
      "mv: cannot stat 'data/daquar/nyu_depth_images': No such file or directory\n"
     ]
    }
   ],
   "source": [
    "! mkdir -p data/daquar\n",
    "! wget -P data/daquar/ https://raw.githubusercontent.com/mateuszmalinowski/visual_turing_test-tutorial/master/data/daquar/qa.894.raw.test.format_triple\n",
    "! wget -P data/daquar/ https://raw.githubusercontent.com/mateuszmalinowski/visual_turing_test-tutorial/master/data/daquar/qa.894.raw.train.format_triple\n",
    "! wget -P data/daquar/ http://datasets.d2.mpi-inf.mpg.de/mateusz14visual-turing/nyu_depth_images.tar\n",
    "! tar -xvf data/daquar/nyu_depth_images.tar -C data/daquar/\n",
    "! mv data/daquar/nyu_depth_images data/daquar/images "
   ]
  },
  {
   "cell_type": "code",
   "execution_count": 2,
   "metadata": {},
   "outputs": [
    {
     "name": "stdout",
     "output_type": "stream",
     "text": [
      "mv: cannot stat '../nyu_depth_images.tar': No such file or directory\r\n"
     ]
    }
   ],
   "source": [
    "! mv ../nyu_depth_images.tar data/daquar/"
   ]
  },
  {
   "cell_type": "code",
   "execution_count": 3,
   "metadata": {},
   "outputs": [
    {
     "name": "stdout",
     "output_type": "stream",
     "text": [
      "tar: data/daquar/nyu_depth_images.tar: Cannot open: No such file or directory\n",
      "tar: Error is not recoverable: exiting now\n",
      "mv: cannot stat 'data/daquar/nyu_depth_images': No such file or directory\n"
     ]
    }
   ],
   "source": [
    "! tar -xvf data/daquar/nyu_depth_images.tar -C data/daquar/\n",
    "! mv data/daquar/nyu_depth_images data/daquar/images "
   ]
  },
  {
   "cell_type": "code",
   "execution_count": 4,
   "metadata": {},
   "outputs": [
    {
     "name": "stdout",
     "output_type": "stream",
     "text": [
      "ln: failed to create symbolic link 'data/data': File exists\r\n"
     ]
    }
   ],
   "source": [
    "! ln -s /usr/local/courses/lt2318/data/ data"
   ]
  },
  {
   "cell_type": "code",
   "execution_count": 5,
   "metadata": {},
   "outputs": [
    {
     "name": "stdout",
     "output_type": "stream",
     "text": [
      "accuracy_graph_add_dropout_30_epochs_30.png\r\n",
      "accuracy_graph_comp0_dropout_30_epochs_30.png\r\n",
      "accuracy_graph_comp1_dropout_30_epochs_30.png\r\n",
      "accuracy_graph_comp2_dropout_30_epochs_30.png\r\n",
      "accuracy_graph_concatenate_dropout_30_epochs_30.png\r\n",
      "accuracy_graph_multiply_dropout_30_epochs_30.png\r\n",
      "accuracy_graph_only_text_dropout_30_epochs_30.png\r\n",
      "attention_accuracy_graph_composition_one_comp1_composition_two_comp1_dropout_30_epochs_30.png\r\n",
      "attention_loss_graph_composition_one_comp1_composition_two_comp1_dropout_30_epochs_30.png\r\n",
      "attention_max_val_acc_for_composition_one_comp1_composition_two_comp1_dropout_30_epochs_30.txt\r\n",
      "attention_model_composition_one_comp1_composition_two_comp1_dropout_30_epochs_30.h5\r\n",
      "attention_model_graph_composition_one_comp1_composition_two_comp1.png\r\n",
      "barzagli_attention_accuracy_graph_composition_one_comp1_composition_two_comp1_dropout_30_epochs_30.png\r\n",
      "barzagli_attention_loss_graph_composition_one_comp1_composition_two_comp1_dropout_30_epochs_30.png\r\n",
      "barzagli_attention_model_graph_composition_one_comp1_composition_two_comp1.png\r\n",
      "data\r\n",
      "loss_graph_add_dropout_30_epochs_30.png\r\n",
      "loss_graph_comp0_dropout_30_epochs_30.png\r\n",
      "loss_graph_comp1_dropout_30_epochs_30.png\r\n",
      "loss_graph_comp2_dropout_30_epochs_30.png\r\n",
      "loss_graph_concatenate_dropout_30_epochs_30.png\r\n",
      "loss_graph_multiply_dropout_30_epochs_30.png\r\n",
      "loss_graph_only_text_dropout_30_epochs_30.png\r\n",
      "max_val_acc_for_add_dropout_30_epochs_30.txt\r\n",
      "max_val_acc_for_concatenate_dropout_30_epochs_30.txt\r\n",
      "max_val_acc_for_multiply_dropout_30_epochs_30.txt\r\n",
      "model_add_dropout_30_epochs_30.h5\r\n",
      "model_concatenate_dropout_30_epochs_30.h5\r\n",
      "model_graph_add.png\r\n",
      "model_graph_comp0.png\r\n",
      "model_graph_comp1.png\r\n",
      "model_graph_comp2.png\r\n",
      "model_graph_concatenate.png\r\n",
      "model_graph_multiply.png\r\n",
      "model_graph_only_text.png\r\n",
      "model_multiply_dropout_30_epochs_30.h5\r\n",
      "model_only_text_dropout_30_epochs_30.h5\r\n",
      "only_text_dropout_30_epochs_30.txt\r\n",
      "simple-vqa-tutorial.ipynb\r\n"
     ]
    }
   ],
   "source": [
    "! ls "
   ]
  },
  {
   "cell_type": "markdown",
   "metadata": {},
   "source": [
    "### Understand the data"
   ]
  },
  {
   "cell_type": "markdown",
   "metadata": {},
   "source": [
    "We can read parts of the training file to see how questions and answers are prepared in the corpus:"
   ]
  },
  {
   "cell_type": "code",
   "execution_count": 6,
   "metadata": {},
   "outputs": [
    {
     "name": "stdout",
     "output_type": "stream",
     "text": [
      "what is on the right side of the black telephone and on the left side of the red chair ?\r\n",
      "desk\r\n",
      "image3\r\n",
      "what is in front of the white door on the left side of the desk ?\r\n",
      "telephone\r\n",
      "image3\r\n",
      "what is on the desk ?\r\n",
      "book, scissor, papers, tape_dispenser\r\n",
      "image3\r\n",
      "what is the largest brown objects ?\r\n",
      "carton\r\n",
      "image3\r\n",
      "what color is the chair in front of the white wall ?\r\n",
      "red\r\n",
      "image3\r\n"
     ]
    }
   ],
   "source": [
    "! head -15 data/daquar/qa.894.raw.train.format_triple "
   ]
  },
  {
   "cell_type": "markdown",
   "metadata": {},
   "source": [
    "You can see the image in jupyter notebook using Markdown as following:\n",
    "\n",
    "`![](data/daquar/images/image3.png)`"
   ]
  },
  {
   "cell_type": "markdown",
   "metadata": {},
   "source": [
    "![](data/daquar/images/image3.png)"
   ]
  },
  {
   "cell_type": "markdown",
   "metadata": {},
   "source": [
    "![text](data/daquar/images/image9.png)"
   ]
  },
  {
   "cell_type": "markdown",
   "metadata": {
    "collapsed": true
   },
   "source": [
    "## Pre-trained visual features"
   ]
  },
  {
   "cell_type": "markdown",
   "metadata": {},
   "source": [
    "The idea is that invariant visual features for classification task represents images for other tasks. A pre-trained CNN for ImangeNet task can be used: \n",
    "\n",
    "![](https://raw.githubusercontent.com/mateuszmalinowski/visual_turing_test-tutorial/master/fig/features_extractor.jpg)\n"
   ]
  },
  {
   "cell_type": "markdown",
   "metadata": {},
   "source": [
    "In order to produce visual features for a given image, we take the output of a layer in convolutional neural networks (CNN) before the final classificatino layer. "
   ]
  },
  {
   "cell_type": "code",
   "execution_count": 7,
   "metadata": {},
   "outputs": [
    {
     "name": "stderr",
     "output_type": "stream",
     "text": [
      "Using TensorFlow backend.\n"
     ]
    }
   ],
   "source": [
    "import os\n",
    "os.environ[\"CUDA_DEVICE_ORDER\"]= \"PCI_BUS_ID\"\n",
    "os.environ[\"CUDA_VISIBLE_DEVICES\"]= \"1\"\n",
    "\n",
    "import numpy as np\n",
    "from keras.applications.resnet50 import ResNet50, preprocess_input\n",
    "#from keras.applications.imagenet_utils import preprocess_input\n",
    "from keras.preprocessing import image as kimage"
   ]
  },
  {
   "cell_type": "code",
   "execution_count": 8,
   "metadata": {},
   "outputs": [
    {
     "name": "stdout",
     "output_type": "stream",
     "text": [
      "Tue Feb 26 18:27:42 2019       \n",
      "+-----------------------------------------------------------------------------+\n",
      "| NVIDIA-SMI 396.54                 Driver Version: 396.54                    |\n",
      "|-------------------------------+----------------------+----------------------+\n",
      "| GPU  Name        Persistence-M| Bus-Id        Disp.A | Volatile Uncorr. ECC |\n",
      "| Fan  Temp  Perf  Pwr:Usage/Cap|         Memory-Usage | GPU-Util  Compute M. |\n",
      "|===============================+======================+======================|\n",
      "|   0  GeForce GTX 108...  Off  | 00000000:03:00.0 Off |                  N/A |\n",
      "|  0%   54C    P0    59W / 250W |      0MiB / 11178MiB |      0%      Default |\n",
      "+-------------------------------+----------------------+----------------------+\n",
      "|   1  GeForce GTX 108...  Off  | 00000000:04:00.0 Off |                  N/A |\n",
      "|  0%   53C    P5    19W / 250W |      0MiB / 11178MiB |      0%      Default |\n",
      "+-------------------------------+----------------------+----------------------+\n",
      "|   2  GeForce GTX 108...  Off  | 00000000:81:00.0 Off |                  N/A |\n",
      "|  0%   52C    P8    18W / 250W |    419MiB / 11178MiB |      0%      Default |\n",
      "+-------------------------------+----------------------+----------------------+\n",
      "|   3  GeForce GTX 108...  Off  | 00000000:82:00.0 Off |                  N/A |\n",
      "| 29%   58C    P2   102W / 250W |  10779MiB / 11178MiB |     34%      Default |\n",
      "+-------------------------------+----------------------+----------------------+\n",
      "                                                                               \n",
      "+-----------------------------------------------------------------------------+\n",
      "| Processes:                                                       GPU Memory |\n",
      "|  GPU       PID   Type   Process name                             Usage      |\n",
      "|=============================================================================|\n",
      "|    2       645      C   /usr/bin/python3                             409MiB |\n",
      "|    3     30602      C   /usr/bin/python3                           10769MiB |\n",
      "+-----------------------------------------------------------------------------+\n"
     ]
    }
   ],
   "source": [
    "! nvidia-smi "
   ]
  },
  {
   "cell_type": "code",
   "execution_count": 9,
   "metadata": {},
   "outputs": [
    {
     "name": "stdout",
     "output_type": "stream",
     "text": [
      "  PID TTY          TIME CMD\r\n",
      "  824 ?        00:00:00 sshd\r\n",
      "  825 pts/28   00:00:00 bash\r\n",
      "  884 pts/28   00:00:01 jupyter-noteboo\r\n",
      " 1095 ?        00:00:08 python3\r\n",
      " 1531 pts/30   00:00:00 ps\r\n",
      "16199 ?        00:00:06 systemd\r\n",
      "16200 ?        00:00:00 (sd-pam)\r\n",
      "16284 ?        00:00:00 ssh-agent\r\n"
     ]
    }
   ],
   "source": [
    "! ps --user=gusagnjoa"
   ]
  },
  {
   "cell_type": "raw",
   "metadata": {},
   "source": [
    "! kill 35791"
   ]
  },
  {
   "cell_type": "code",
   "execution_count": 10,
   "metadata": {},
   "outputs": [],
   "source": [
    "%matplotlib inline\n",
    "from matplotlib import pyplot as plt"
   ]
  },
  {
   "cell_type": "code",
   "execution_count": 11,
   "metadata": {},
   "outputs": [
    {
     "name": "stderr",
     "output_type": "stream",
     "text": [
      "/usr/local/lib64/python3.6/site-packages/keras_applications/resnet50.py:263: UserWarning: The output shape of `ResNet50(include_top=False)` has been changed since Keras 2.2.0.\n",
      "  warnings.warn('The output shape of `ResNet50(include_top=False)` '\n"
     ]
    }
   ],
   "source": [
    "# If you are running this for the first time in this machine, keras will download the pre-trained weights.\n",
    "pretrained_cnn_model = ResNet50(weights='imagenet', include_top=False)"
   ]
  },
  {
   "cell_type": "code",
   "execution_count": 12,
   "metadata": {
    "scrolled": true
   },
   "outputs": [
    {
     "name": "stdout",
     "output_type": "stream",
     "text": [
      "__________________________________________________________________________________________________\n",
      "Layer (type)                    Output Shape         Param #     Connected to                     \n",
      "==================================================================================================\n",
      "input_1 (InputLayer)            (None, None, None, 3 0                                            \n",
      "__________________________________________________________________________________________________\n",
      "conv1_pad (ZeroPadding2D)       (None, None, None, 3 0           input_1[0][0]                    \n",
      "__________________________________________________________________________________________________\n",
      "conv1 (Conv2D)                  (None, None, None, 6 9472        conv1_pad[0][0]                  \n",
      "__________________________________________________________________________________________________\n",
      "bn_conv1 (BatchNormalization)   (None, None, None, 6 256         conv1[0][0]                      \n",
      "__________________________________________________________________________________________________\n",
      "activation (Activation)         (None, None, None, 6 0           bn_conv1[0][0]                   \n",
      "__________________________________________________________________________________________________\n",
      "max_pooling2d (MaxPooling2D)    (None, None, None, 6 0           activation[0][0]                 \n",
      "__________________________________________________________________________________________________\n",
      "res2a_branch2a (Conv2D)         (None, None, None, 6 4160        max_pooling2d[0][0]              \n",
      "__________________________________________________________________________________________________\n",
      "bn2a_branch2a (BatchNormalizati (None, None, None, 6 256         res2a_branch2a[0][0]             \n",
      "__________________________________________________________________________________________________\n",
      "activation_1 (Activation)       (None, None, None, 6 0           bn2a_branch2a[0][0]              \n",
      "__________________________________________________________________________________________________\n",
      "res2a_branch2b (Conv2D)         (None, None, None, 6 36928       activation_1[0][0]               \n",
      "__________________________________________________________________________________________________\n",
      "bn2a_branch2b (BatchNormalizati (None, None, None, 6 256         res2a_branch2b[0][0]             \n",
      "__________________________________________________________________________________________________\n",
      "activation_2 (Activation)       (None, None, None, 6 0           bn2a_branch2b[0][0]              \n",
      "__________________________________________________________________________________________________\n",
      "res2a_branch2c (Conv2D)         (None, None, None, 2 16640       activation_2[0][0]               \n",
      "__________________________________________________________________________________________________\n",
      "res2a_branch1 (Conv2D)          (None, None, None, 2 16640       max_pooling2d[0][0]              \n",
      "__________________________________________________________________________________________________\n",
      "bn2a_branch2c (BatchNormalizati (None, None, None, 2 1024        res2a_branch2c[0][0]             \n",
      "__________________________________________________________________________________________________\n",
      "bn2a_branch1 (BatchNormalizatio (None, None, None, 2 1024        res2a_branch1[0][0]              \n",
      "__________________________________________________________________________________________________\n",
      "add (Add)                       (None, None, None, 2 0           bn2a_branch2c[0][0]              \n",
      "                                                                 bn2a_branch1[0][0]               \n",
      "__________________________________________________________________________________________________\n",
      "activation_3 (Activation)       (None, None, None, 2 0           add[0][0]                        \n",
      "__________________________________________________________________________________________________\n",
      "res2b_branch2a (Conv2D)         (None, None, None, 6 16448       activation_3[0][0]               \n",
      "__________________________________________________________________________________________________\n",
      "bn2b_branch2a (BatchNormalizati (None, None, None, 6 256         res2b_branch2a[0][0]             \n",
      "__________________________________________________________________________________________________\n",
      "activation_4 (Activation)       (None, None, None, 6 0           bn2b_branch2a[0][0]              \n",
      "__________________________________________________________________________________________________\n",
      "res2b_branch2b (Conv2D)         (None, None, None, 6 36928       activation_4[0][0]               \n",
      "__________________________________________________________________________________________________\n",
      "bn2b_branch2b (BatchNormalizati (None, None, None, 6 256         res2b_branch2b[0][0]             \n",
      "__________________________________________________________________________________________________\n",
      "activation_5 (Activation)       (None, None, None, 6 0           bn2b_branch2b[0][0]              \n",
      "__________________________________________________________________________________________________\n",
      "res2b_branch2c (Conv2D)         (None, None, None, 2 16640       activation_5[0][0]               \n",
      "__________________________________________________________________________________________________\n",
      "bn2b_branch2c (BatchNormalizati (None, None, None, 2 1024        res2b_branch2c[0][0]             \n",
      "__________________________________________________________________________________________________\n",
      "add_1 (Add)                     (None, None, None, 2 0           bn2b_branch2c[0][0]              \n",
      "                                                                 activation_3[0][0]               \n",
      "__________________________________________________________________________________________________\n",
      "activation_6 (Activation)       (None, None, None, 2 0           add_1[0][0]                      \n",
      "__________________________________________________________________________________________________\n",
      "res2c_branch2a (Conv2D)         (None, None, None, 6 16448       activation_6[0][0]               \n",
      "__________________________________________________________________________________________________\n",
      "bn2c_branch2a (BatchNormalizati (None, None, None, 6 256         res2c_branch2a[0][0]             \n",
      "__________________________________________________________________________________________________\n",
      "activation_7 (Activation)       (None, None, None, 6 0           bn2c_branch2a[0][0]              \n",
      "__________________________________________________________________________________________________\n",
      "res2c_branch2b (Conv2D)         (None, None, None, 6 36928       activation_7[0][0]               \n",
      "__________________________________________________________________________________________________\n",
      "bn2c_branch2b (BatchNormalizati (None, None, None, 6 256         res2c_branch2b[0][0]             \n",
      "__________________________________________________________________________________________________\n",
      "activation_8 (Activation)       (None, None, None, 6 0           bn2c_branch2b[0][0]              \n",
      "__________________________________________________________________________________________________\n",
      "res2c_branch2c (Conv2D)         (None, None, None, 2 16640       activation_8[0][0]               \n",
      "__________________________________________________________________________________________________\n",
      "bn2c_branch2c (BatchNormalizati (None, None, None, 2 1024        res2c_branch2c[0][0]             \n",
      "__________________________________________________________________________________________________\n",
      "add_2 (Add)                     (None, None, None, 2 0           bn2c_branch2c[0][0]              \n",
      "                                                                 activation_6[0][0]               \n",
      "__________________________________________________________________________________________________\n",
      "activation_9 (Activation)       (None, None, None, 2 0           add_2[0][0]                      \n",
      "__________________________________________________________________________________________________\n",
      "res3a_branch2a (Conv2D)         (None, None, None, 1 32896       activation_9[0][0]               \n",
      "__________________________________________________________________________________________________\n",
      "bn3a_branch2a (BatchNormalizati (None, None, None, 1 512         res3a_branch2a[0][0]             \n",
      "__________________________________________________________________________________________________\n",
      "activation_10 (Activation)      (None, None, None, 1 0           bn3a_branch2a[0][0]              \n",
      "__________________________________________________________________________________________________\n",
      "res3a_branch2b (Conv2D)         (None, None, None, 1 147584      activation_10[0][0]              \n",
      "__________________________________________________________________________________________________\n",
      "bn3a_branch2b (BatchNormalizati (None, None, None, 1 512         res3a_branch2b[0][0]             \n",
      "__________________________________________________________________________________________________\n",
      "activation_11 (Activation)      (None, None, None, 1 0           bn3a_branch2b[0][0]              \n",
      "__________________________________________________________________________________________________\n",
      "res3a_branch2c (Conv2D)         (None, None, None, 5 66048       activation_11[0][0]              \n",
      "__________________________________________________________________________________________________\n",
      "res3a_branch1 (Conv2D)          (None, None, None, 5 131584      activation_9[0][0]               \n",
      "__________________________________________________________________________________________________\n",
      "bn3a_branch2c (BatchNormalizati (None, None, None, 5 2048        res3a_branch2c[0][0]             \n",
      "__________________________________________________________________________________________________\n",
      "bn3a_branch1 (BatchNormalizatio (None, None, None, 5 2048        res3a_branch1[0][0]              \n",
      "__________________________________________________________________________________________________\n",
      "add_3 (Add)                     (None, None, None, 5 0           bn3a_branch2c[0][0]              \n",
      "                                                                 bn3a_branch1[0][0]               \n",
      "__________________________________________________________________________________________________\n",
      "activation_12 (Activation)      (None, None, None, 5 0           add_3[0][0]                      \n",
      "__________________________________________________________________________________________________\n",
      "res3b_branch2a (Conv2D)         (None, None, None, 1 65664       activation_12[0][0]              \n",
      "__________________________________________________________________________________________________\n",
      "bn3b_branch2a (BatchNormalizati (None, None, None, 1 512         res3b_branch2a[0][0]             \n",
      "__________________________________________________________________________________________________\n",
      "activation_13 (Activation)      (None, None, None, 1 0           bn3b_branch2a[0][0]              \n",
      "__________________________________________________________________________________________________\n",
      "res3b_branch2b (Conv2D)         (None, None, None, 1 147584      activation_13[0][0]              \n",
      "__________________________________________________________________________________________________\n",
      "bn3b_branch2b (BatchNormalizati (None, None, None, 1 512         res3b_branch2b[0][0]             \n",
      "__________________________________________________________________________________________________\n",
      "activation_14 (Activation)      (None, None, None, 1 0           bn3b_branch2b[0][0]              \n",
      "__________________________________________________________________________________________________\n",
      "res3b_branch2c (Conv2D)         (None, None, None, 5 66048       activation_14[0][0]              \n",
      "__________________________________________________________________________________________________\n",
      "bn3b_branch2c (BatchNormalizati (None, None, None, 5 2048        res3b_branch2c[0][0]             \n",
      "__________________________________________________________________________________________________\n",
      "add_4 (Add)                     (None, None, None, 5 0           bn3b_branch2c[0][0]              \n",
      "                                                                 activation_12[0][0]              \n",
      "__________________________________________________________________________________________________\n",
      "activation_15 (Activation)      (None, None, None, 5 0           add_4[0][0]                      \n",
      "__________________________________________________________________________________________________\n",
      "res3c_branch2a (Conv2D)         (None, None, None, 1 65664       activation_15[0][0]              \n",
      "__________________________________________________________________________________________________\n",
      "bn3c_branch2a (BatchNormalizati (None, None, None, 1 512         res3c_branch2a[0][0]             \n",
      "__________________________________________________________________________________________________\n",
      "activation_16 (Activation)      (None, None, None, 1 0           bn3c_branch2a[0][0]              \n",
      "__________________________________________________________________________________________________\n",
      "res3c_branch2b (Conv2D)         (None, None, None, 1 147584      activation_16[0][0]              \n",
      "__________________________________________________________________________________________________\n",
      "bn3c_branch2b (BatchNormalizati (None, None, None, 1 512         res3c_branch2b[0][0]             \n",
      "__________________________________________________________________________________________________\n",
      "activation_17 (Activation)      (None, None, None, 1 0           bn3c_branch2b[0][0]              \n",
      "__________________________________________________________________________________________________\n",
      "res3c_branch2c (Conv2D)         (None, None, None, 5 66048       activation_17[0][0]              \n",
      "__________________________________________________________________________________________________\n",
      "bn3c_branch2c (BatchNormalizati (None, None, None, 5 2048        res3c_branch2c[0][0]             \n",
      "__________________________________________________________________________________________________\n",
      "add_5 (Add)                     (None, None, None, 5 0           bn3c_branch2c[0][0]              \n",
      "                                                                 activation_15[0][0]              \n",
      "__________________________________________________________________________________________________\n",
      "activation_18 (Activation)      (None, None, None, 5 0           add_5[0][0]                      \n",
      "__________________________________________________________________________________________________\n",
      "res3d_branch2a (Conv2D)         (None, None, None, 1 65664       activation_18[0][0]              \n",
      "__________________________________________________________________________________________________\n",
      "bn3d_branch2a (BatchNormalizati (None, None, None, 1 512         res3d_branch2a[0][0]             \n",
      "__________________________________________________________________________________________________\n",
      "activation_19 (Activation)      (None, None, None, 1 0           bn3d_branch2a[0][0]              \n",
      "__________________________________________________________________________________________________\n",
      "res3d_branch2b (Conv2D)         (None, None, None, 1 147584      activation_19[0][0]              \n",
      "__________________________________________________________________________________________________\n",
      "bn3d_branch2b (BatchNormalizati (None, None, None, 1 512         res3d_branch2b[0][0]             \n",
      "__________________________________________________________________________________________________\n",
      "activation_20 (Activation)      (None, None, None, 1 0           bn3d_branch2b[0][0]              \n",
      "__________________________________________________________________________________________________\n",
      "res3d_branch2c (Conv2D)         (None, None, None, 5 66048       activation_20[0][0]              \n",
      "__________________________________________________________________________________________________\n",
      "bn3d_branch2c (BatchNormalizati (None, None, None, 5 2048        res3d_branch2c[0][0]             \n",
      "__________________________________________________________________________________________________\n",
      "add_6 (Add)                     (None, None, None, 5 0           bn3d_branch2c[0][0]              \n",
      "                                                                 activation_18[0][0]              \n",
      "__________________________________________________________________________________________________\n",
      "activation_21 (Activation)      (None, None, None, 5 0           add_6[0][0]                      \n",
      "__________________________________________________________________________________________________\n",
      "res4a_branch2a (Conv2D)         (None, None, None, 2 131328      activation_21[0][0]              \n",
      "__________________________________________________________________________________________________\n",
      "bn4a_branch2a (BatchNormalizati (None, None, None, 2 1024        res4a_branch2a[0][0]             \n",
      "__________________________________________________________________________________________________\n",
      "activation_22 (Activation)      (None, None, None, 2 0           bn4a_branch2a[0][0]              \n",
      "__________________________________________________________________________________________________\n",
      "res4a_branch2b (Conv2D)         (None, None, None, 2 590080      activation_22[0][0]              \n",
      "__________________________________________________________________________________________________\n",
      "bn4a_branch2b (BatchNormalizati (None, None, None, 2 1024        res4a_branch2b[0][0]             \n",
      "__________________________________________________________________________________________________\n",
      "activation_23 (Activation)      (None, None, None, 2 0           bn4a_branch2b[0][0]              \n",
      "__________________________________________________________________________________________________\n",
      "res4a_branch2c (Conv2D)         (None, None, None, 1 263168      activation_23[0][0]              \n",
      "__________________________________________________________________________________________________\n",
      "res4a_branch1 (Conv2D)          (None, None, None, 1 525312      activation_21[0][0]              \n",
      "__________________________________________________________________________________________________\n",
      "bn4a_branch2c (BatchNormalizati (None, None, None, 1 4096        res4a_branch2c[0][0]             \n",
      "__________________________________________________________________________________________________\n",
      "bn4a_branch1 (BatchNormalizatio (None, None, None, 1 4096        res4a_branch1[0][0]              \n",
      "__________________________________________________________________________________________________\n",
      "add_7 (Add)                     (None, None, None, 1 0           bn4a_branch2c[0][0]              \n",
      "                                                                 bn4a_branch1[0][0]               \n",
      "__________________________________________________________________________________________________\n",
      "activation_24 (Activation)      (None, None, None, 1 0           add_7[0][0]                      \n",
      "__________________________________________________________________________________________________\n",
      "res4b_branch2a (Conv2D)         (None, None, None, 2 262400      activation_24[0][0]              \n",
      "__________________________________________________________________________________________________\n",
      "bn4b_branch2a (BatchNormalizati (None, None, None, 2 1024        res4b_branch2a[0][0]             \n",
      "__________________________________________________________________________________________________\n",
      "activation_25 (Activation)      (None, None, None, 2 0           bn4b_branch2a[0][0]              \n",
      "__________________________________________________________________________________________________\n",
      "res4b_branch2b (Conv2D)         (None, None, None, 2 590080      activation_25[0][0]              \n",
      "__________________________________________________________________________________________________\n",
      "bn4b_branch2b (BatchNormalizati (None, None, None, 2 1024        res4b_branch2b[0][0]             \n",
      "__________________________________________________________________________________________________\n",
      "activation_26 (Activation)      (None, None, None, 2 0           bn4b_branch2b[0][0]              \n",
      "__________________________________________________________________________________________________\n",
      "res4b_branch2c (Conv2D)         (None, None, None, 1 263168      activation_26[0][0]              \n",
      "__________________________________________________________________________________________________\n",
      "bn4b_branch2c (BatchNormalizati (None, None, None, 1 4096        res4b_branch2c[0][0]             \n",
      "__________________________________________________________________________________________________\n",
      "add_8 (Add)                     (None, None, None, 1 0           bn4b_branch2c[0][0]              \n",
      "                                                                 activation_24[0][0]              \n",
      "__________________________________________________________________________________________________\n",
      "activation_27 (Activation)      (None, None, None, 1 0           add_8[0][0]                      \n",
      "__________________________________________________________________________________________________\n",
      "res4c_branch2a (Conv2D)         (None, None, None, 2 262400      activation_27[0][0]              \n",
      "__________________________________________________________________________________________________\n",
      "bn4c_branch2a (BatchNormalizati (None, None, None, 2 1024        res4c_branch2a[0][0]             \n",
      "__________________________________________________________________________________________________\n",
      "activation_28 (Activation)      (None, None, None, 2 0           bn4c_branch2a[0][0]              \n",
      "__________________________________________________________________________________________________\n",
      "res4c_branch2b (Conv2D)         (None, None, None, 2 590080      activation_28[0][0]              \n",
      "__________________________________________________________________________________________________\n",
      "bn4c_branch2b (BatchNormalizati (None, None, None, 2 1024        res4c_branch2b[0][0]             \n",
      "__________________________________________________________________________________________________\n",
      "activation_29 (Activation)      (None, None, None, 2 0           bn4c_branch2b[0][0]              \n",
      "__________________________________________________________________________________________________\n",
      "res4c_branch2c (Conv2D)         (None, None, None, 1 263168      activation_29[0][0]              \n",
      "__________________________________________________________________________________________________\n",
      "bn4c_branch2c (BatchNormalizati (None, None, None, 1 4096        res4c_branch2c[0][0]             \n",
      "__________________________________________________________________________________________________\n",
      "add_9 (Add)                     (None, None, None, 1 0           bn4c_branch2c[0][0]              \n",
      "                                                                 activation_27[0][0]              \n",
      "__________________________________________________________________________________________________\n",
      "activation_30 (Activation)      (None, None, None, 1 0           add_9[0][0]                      \n",
      "__________________________________________________________________________________________________\n",
      "res4d_branch2a (Conv2D)         (None, None, None, 2 262400      activation_30[0][0]              \n",
      "__________________________________________________________________________________________________\n",
      "bn4d_branch2a (BatchNormalizati (None, None, None, 2 1024        res4d_branch2a[0][0]             \n",
      "__________________________________________________________________________________________________\n",
      "activation_31 (Activation)      (None, None, None, 2 0           bn4d_branch2a[0][0]              \n",
      "__________________________________________________________________________________________________\n",
      "res4d_branch2b (Conv2D)         (None, None, None, 2 590080      activation_31[0][0]              \n",
      "__________________________________________________________________________________________________\n",
      "bn4d_branch2b (BatchNormalizati (None, None, None, 2 1024        res4d_branch2b[0][0]             \n",
      "__________________________________________________________________________________________________\n",
      "activation_32 (Activation)      (None, None, None, 2 0           bn4d_branch2b[0][0]              \n",
      "__________________________________________________________________________________________________\n",
      "res4d_branch2c (Conv2D)         (None, None, None, 1 263168      activation_32[0][0]              \n",
      "__________________________________________________________________________________________________\n",
      "bn4d_branch2c (BatchNormalizati (None, None, None, 1 4096        res4d_branch2c[0][0]             \n",
      "__________________________________________________________________________________________________\n",
      "add_10 (Add)                    (None, None, None, 1 0           bn4d_branch2c[0][0]              \n",
      "                                                                 activation_30[0][0]              \n",
      "__________________________________________________________________________________________________\n",
      "activation_33 (Activation)      (None, None, None, 1 0           add_10[0][0]                     \n",
      "__________________________________________________________________________________________________\n",
      "res4e_branch2a (Conv2D)         (None, None, None, 2 262400      activation_33[0][0]              \n",
      "__________________________________________________________________________________________________\n",
      "bn4e_branch2a (BatchNormalizati (None, None, None, 2 1024        res4e_branch2a[0][0]             \n",
      "__________________________________________________________________________________________________\n",
      "activation_34 (Activation)      (None, None, None, 2 0           bn4e_branch2a[0][0]              \n",
      "__________________________________________________________________________________________________\n",
      "res4e_branch2b (Conv2D)         (None, None, None, 2 590080      activation_34[0][0]              \n",
      "__________________________________________________________________________________________________\n",
      "bn4e_branch2b (BatchNormalizati (None, None, None, 2 1024        res4e_branch2b[0][0]             \n",
      "__________________________________________________________________________________________________\n",
      "activation_35 (Activation)      (None, None, None, 2 0           bn4e_branch2b[0][0]              \n",
      "__________________________________________________________________________________________________\n",
      "res4e_branch2c (Conv2D)         (None, None, None, 1 263168      activation_35[0][0]              \n",
      "__________________________________________________________________________________________________\n",
      "bn4e_branch2c (BatchNormalizati (None, None, None, 1 4096        res4e_branch2c[0][0]             \n",
      "__________________________________________________________________________________________________\n",
      "add_11 (Add)                    (None, None, None, 1 0           bn4e_branch2c[0][0]              \n",
      "                                                                 activation_33[0][0]              \n",
      "__________________________________________________________________________________________________\n",
      "activation_36 (Activation)      (None, None, None, 1 0           add_11[0][0]                     \n",
      "__________________________________________________________________________________________________\n",
      "res4f_branch2a (Conv2D)         (None, None, None, 2 262400      activation_36[0][0]              \n",
      "__________________________________________________________________________________________________\n",
      "bn4f_branch2a (BatchNormalizati (None, None, None, 2 1024        res4f_branch2a[0][0]             \n",
      "__________________________________________________________________________________________________\n",
      "activation_37 (Activation)      (None, None, None, 2 0           bn4f_branch2a[0][0]              \n",
      "__________________________________________________________________________________________________\n",
      "res4f_branch2b (Conv2D)         (None, None, None, 2 590080      activation_37[0][0]              \n",
      "__________________________________________________________________________________________________\n",
      "bn4f_branch2b (BatchNormalizati (None, None, None, 2 1024        res4f_branch2b[0][0]             \n",
      "__________________________________________________________________________________________________\n",
      "activation_38 (Activation)      (None, None, None, 2 0           bn4f_branch2b[0][0]              \n",
      "__________________________________________________________________________________________________\n",
      "res4f_branch2c (Conv2D)         (None, None, None, 1 263168      activation_38[0][0]              \n",
      "__________________________________________________________________________________________________\n",
      "bn4f_branch2c (BatchNormalizati (None, None, None, 1 4096        res4f_branch2c[0][0]             \n",
      "__________________________________________________________________________________________________\n",
      "add_12 (Add)                    (None, None, None, 1 0           bn4f_branch2c[0][0]              \n",
      "                                                                 activation_36[0][0]              \n",
      "__________________________________________________________________________________________________\n",
      "activation_39 (Activation)      (None, None, None, 1 0           add_12[0][0]                     \n",
      "__________________________________________________________________________________________________\n",
      "res5a_branch2a (Conv2D)         (None, None, None, 5 524800      activation_39[0][0]              \n",
      "__________________________________________________________________________________________________\n",
      "bn5a_branch2a (BatchNormalizati (None, None, None, 5 2048        res5a_branch2a[0][0]             \n",
      "__________________________________________________________________________________________________\n",
      "activation_40 (Activation)      (None, None, None, 5 0           bn5a_branch2a[0][0]              \n",
      "__________________________________________________________________________________________________\n",
      "res5a_branch2b (Conv2D)         (None, None, None, 5 2359808     activation_40[0][0]              \n",
      "__________________________________________________________________________________________________\n",
      "bn5a_branch2b (BatchNormalizati (None, None, None, 5 2048        res5a_branch2b[0][0]             \n",
      "__________________________________________________________________________________________________\n",
      "activation_41 (Activation)      (None, None, None, 5 0           bn5a_branch2b[0][0]              \n",
      "__________________________________________________________________________________________________\n",
      "res5a_branch2c (Conv2D)         (None, None, None, 2 1050624     activation_41[0][0]              \n",
      "__________________________________________________________________________________________________\n",
      "res5a_branch1 (Conv2D)          (None, None, None, 2 2099200     activation_39[0][0]              \n",
      "__________________________________________________________________________________________________\n",
      "bn5a_branch2c (BatchNormalizati (None, None, None, 2 8192        res5a_branch2c[0][0]             \n",
      "__________________________________________________________________________________________________\n",
      "bn5a_branch1 (BatchNormalizatio (None, None, None, 2 8192        res5a_branch1[0][0]              \n",
      "__________________________________________________________________________________________________\n",
      "add_13 (Add)                    (None, None, None, 2 0           bn5a_branch2c[0][0]              \n",
      "                                                                 bn5a_branch1[0][0]               \n",
      "__________________________________________________________________________________________________\n",
      "activation_42 (Activation)      (None, None, None, 2 0           add_13[0][0]                     \n",
      "__________________________________________________________________________________________________\n",
      "res5b_branch2a (Conv2D)         (None, None, None, 5 1049088     activation_42[0][0]              \n",
      "__________________________________________________________________________________________________\n",
      "bn5b_branch2a (BatchNormalizati (None, None, None, 5 2048        res5b_branch2a[0][0]             \n",
      "__________________________________________________________________________________________________\n",
      "activation_43 (Activation)      (None, None, None, 5 0           bn5b_branch2a[0][0]              \n",
      "__________________________________________________________________________________________________\n",
      "res5b_branch2b (Conv2D)         (None, None, None, 5 2359808     activation_43[0][0]              \n",
      "__________________________________________________________________________________________________\n",
      "bn5b_branch2b (BatchNormalizati (None, None, None, 5 2048        res5b_branch2b[0][0]             \n",
      "__________________________________________________________________________________________________\n",
      "activation_44 (Activation)      (None, None, None, 5 0           bn5b_branch2b[0][0]              \n",
      "__________________________________________________________________________________________________\n",
      "res5b_branch2c (Conv2D)         (None, None, None, 2 1050624     activation_44[0][0]              \n",
      "__________________________________________________________________________________________________\n",
      "bn5b_branch2c (BatchNormalizati (None, None, None, 2 8192        res5b_branch2c[0][0]             \n",
      "__________________________________________________________________________________________________\n",
      "add_14 (Add)                    (None, None, None, 2 0           bn5b_branch2c[0][0]              \n",
      "                                                                 activation_42[0][0]              \n",
      "__________________________________________________________________________________________________\n",
      "activation_45 (Activation)      (None, None, None, 2 0           add_14[0][0]                     \n",
      "__________________________________________________________________________________________________\n",
      "res5c_branch2a (Conv2D)         (None, None, None, 5 1049088     activation_45[0][0]              \n",
      "__________________________________________________________________________________________________\n",
      "bn5c_branch2a (BatchNormalizati (None, None, None, 5 2048        res5c_branch2a[0][0]             \n",
      "__________________________________________________________________________________________________\n",
      "activation_46 (Activation)      (None, None, None, 5 0           bn5c_branch2a[0][0]              \n",
      "__________________________________________________________________________________________________\n",
      "res5c_branch2b (Conv2D)         (None, None, None, 5 2359808     activation_46[0][0]              \n",
      "__________________________________________________________________________________________________\n",
      "bn5c_branch2b (BatchNormalizati (None, None, None, 5 2048        res5c_branch2b[0][0]             \n",
      "__________________________________________________________________________________________________\n",
      "activation_47 (Activation)      (None, None, None, 5 0           bn5c_branch2b[0][0]              \n",
      "__________________________________________________________________________________________________\n",
      "res5c_branch2c (Conv2D)         (None, None, None, 2 1050624     activation_47[0][0]              \n",
      "__________________________________________________________________________________________________\n",
      "bn5c_branch2c (BatchNormalizati (None, None, None, 2 8192        res5c_branch2c[0][0]             \n",
      "__________________________________________________________________________________________________\n",
      "add_15 (Add)                    (None, None, None, 2 0           bn5c_branch2c[0][0]              \n",
      "                                                                 activation_45[0][0]              \n",
      "__________________________________________________________________________________________________\n",
      "activation_48 (Activation)      (None, None, None, 2 0           add_15[0][0]                     \n",
      "==================================================================================================\n",
      "Total params: 23,587,712\n",
      "Trainable params: 23,534,592\n",
      "Non-trainable params: 53,120\n",
      "__________________________________________________________________________________________________\n"
     ]
    }
   ],
   "source": [
    "pretrained_cnn_model.summary()"
   ]
  },
  {
   "cell_type": "markdown",
   "metadata": {},
   "source": [
    "Notice that the output must be in shape `[batch_size, width, height, features]` but since the last layer is the result of a global spatial average pooling the `width` and `hight` will be equal to 1: "
   ]
  },
  {
   "cell_type": "code",
   "execution_count": 13,
   "metadata": {},
   "outputs": [
    {
     "data": {
      "text/plain": [
       "TensorShape([Dimension(None), Dimension(None), Dimension(None), Dimension(2048)])"
      ]
     },
     "execution_count": 13,
     "metadata": {},
     "output_type": "execute_result"
    }
   ],
   "source": [
    "pretrained_cnn_model.output.shape"
   ]
  },
  {
   "cell_type": "markdown",
   "metadata": {},
   "source": [
    "For example, the image `image3.png` can be processed with this model:"
   ]
  },
  {
   "cell_type": "code",
   "execution_count": 14,
   "metadata": {},
   "outputs": [],
   "source": [
    "# first we read the image from file and resize it to the ImageNet size\n",
    "image3 = kimage.load_img(\"data/daquar/images/image1.png\", target_size=[224,224])\n",
    "\n",
    "# we have to convert it to numpy array:\n",
    "image3_array = kimage.img_to_array(image3)\n",
    "\n",
    "# the neural network is designed to process a batch of images as input.\n",
    "# so, need to make it as an array of images:\n",
    "images_array = np.array([\n",
    "    image3_array,\n",
    "])\n",
    "\n",
    "# At this point we suppose that image is prepared as an RGB formated array\n",
    "# with integer values of 0-255 for each color code.\n",
    "# we should make sure that the format is matching input format of the pre-trained network.\n",
    "# (in this case, the following code makes convernt RGB to BGR)\n",
    "images_ready = preprocess_input(images_array)"
   ]
  },
  {
   "cell_type": "code",
   "execution_count": null,
   "metadata": {},
   "outputs": [],
   "source": []
  },
  {
   "cell_type": "markdown",
   "metadata": {},
   "source": [
    "Now, we can the pre-processed image use the CNN model to produce visual features:"
   ]
  },
  {
   "cell_type": "code",
   "execution_count": 15,
   "metadata": {},
   "outputs": [
    {
     "name": "stdout",
     "output_type": "stream",
     "text": [
      "the output shape: (1, 7, 7, 2048)\n",
      "     dtype: float32\n",
      " dimension: 100352\n",
      "the vector: [0.       0.       0.       ... 8.330844 0.       0.      ]\n"
     ]
    }
   ],
   "source": [
    "vfearues = pretrained_cnn_model.predict(images_ready)\n",
    "print('the output shape:', vfearues.shape)\n",
    "image3_features = vfearues[0].flatten()\n",
    "\n",
    "print('     dtype:', image3_features.dtype)\n",
    "print(' dimension:', image3_features.shape[0])\n",
    "print('the vector:', image3_features)\n"
   ]
  },
  {
   "cell_type": "code",
   "execution_count": 16,
   "metadata": {},
   "outputs": [],
   "source": [
    "# we can make this into a function (from file path to feature vectors)\n",
    "# this is function doesn't have an ideal performance but it would be useful for the sake of this tutorial\n",
    "def img2vec(image_path):\n",
    "    x = kimage.load_img(image_path, target_size=[224,224])\n",
    "    x_array = kimage.img_to_array(x)\n",
    "    xs_array = np.array([x_array,])\n",
    "    # notice that we are not using full capacity of the GPU when we are passing only one image per prediction.\n",
    "    # we could have a larger batch.\n",
    "    return pretrained_cnn_model.predict(preprocess_input(xs_array)).flatten()\n"
   ]
  },
  {
   "cell_type": "markdown",
   "metadata": {},
   "source": [
    "## A Vision and Language Network"
   ]
  },
  {
   "cell_type": "markdown",
   "metadata": {},
   "source": [
    "### Understand this neural network model"
   ]
  },
  {
   "cell_type": "markdown",
   "metadata": {},
   "source": [
    "In this tutorial, we want to build a neural net function, with inputs being a question and its context picture and the output being a single word answer:"
   ]
  },
  {
   "cell_type": "markdown",
   "metadata": {},
   "source": [
    "![](https://github.com/mateuszmalinowski/visual_turing_test-tutorial/raw/master/fig/LSTM_vision_model.jpg)"
   ]
  },
  {
   "cell_type": "markdown",
   "metadata": {},
   "source": [
    "### Preprocess and prepare the data"
   ]
  },
  {
   "cell_type": "markdown",
   "metadata": {},
   "source": [
    "The goal is to first prepare the text for processing. Also apply techniques for dealing with out-of-vocabulary (OOV) words, e.g. adding `<unk>` for rare words and `<num>` for numbers. "
   ]
  },
  {
   "cell_type": "markdown",
   "metadata": {},
   "source": [
    "*** (1) Build the vocabulary, (2) Remove punctuation, and (3) mask numbers from text if it's needed***"
   ]
  },
  {
   "cell_type": "code",
   "execution_count": 17,
   "metadata": {},
   "outputs": [],
   "source": [
    "# You can skip this part and use the prepared files in next step"
   ]
  },
  {
   "cell_type": "code",
   "execution_count": 18,
   "metadata": {},
   "outputs": [],
   "source": [
    "import string\n",
    "from collections import Counter, defaultdict \n",
    "\n",
    "def preprocess_triple_file(filepath):\n",
    "    # useful metadata:\n",
    "    # vocabulary, longest_sentence_length\n",
    "    \n",
    "    # vocabulary for each file\n",
    "    metadata = {\n",
    "        'questions': {'vocab': Counter(), 'max_len': 0},\n",
    "        'answers': {'vocab': Counter(), 'max_len': 0},\n",
    "        'contexts': {'vocab': Counter(), 'max_len': 0},\n",
    "    }\n",
    "    \n",
    "    \n",
    "    # split the file into three parallel text files:\n",
    "    files = {\n",
    "        'questions': open(filepath+'.questions', 'w'),\n",
    "        'answers'  : open(filepath+'.answers', 'w'),\n",
    "        'contexts' : open(filepath+'.contexts', 'w'),\n",
    "    }\n",
    "    \n",
    "    def process(s, mask_numbers=True, metadata=None):\n",
    "        word_sequence = [w.strip().rstrip(string.punctuation) for w in s.split()]\n",
    "        \n",
    "        ### Mask numbers here ###\n",
    "        #def is_number(s):\n",
    "        #    try:\n",
    "        #        float(s)\n",
    "        #        return True\n",
    "        #    except ValueError:\n",
    "        #        return False\n",
    "        #\n",
    "        #if mask_numbers:\n",
    "        #    word_sequence = ['<num>' if mask_numbers and is_number(w) else w for w in word_sequence]\n",
    "\n",
    "        metadata['vocab'].update(word_sequence)\n",
    "        metadata['max_len'] = max(len(word_sequence), metadata['max_len'])\n",
    "\n",
    "        return ' '.join(word_sequence)\n",
    "    \n",
    "    \n",
    "    # stateful reading of the file, each line changes the states as follwing:\n",
    "    # question => answer => context => question\n",
    "    state = 'questions'\n",
    "    for line in open(filepath, encoding='utf-8'):\n",
    "        files[state].write(process(line, metadata=metadata[state])+'\\n')\n",
    "        \n",
    "        if state == 'questions':\n",
    "            state = 'answers'\n",
    "        elif state == 'answers':\n",
    "            state = 'contexts'\n",
    "        elif state == 'contexts':\n",
    "            state = 'questions'\n",
    "        \n",
    "    for state in files:\n",
    "        files[state].close()\n",
    "\n",
    "    np.save(filepath+'.metadata.npy', metadata)\n",
    "    return None\n",
    "\n",
    "# process these files and produce new files:\n",
    "# training qa data \"data/daquar/qa.894.raw.train.format_triple\"\n",
    "# testing qa data \"data/daquar/qa.894.raw.test.format_triple\"\n",
    "\n",
    "preprocess_triple_file(\"data/daquar/qa.894.raw.train.format_triple\")\n",
    "preprocess_triple_file(\"data/daquar/qa.894.raw.test.format_triple\")"
   ]
  },
  {
   "cell_type": "code",
   "execution_count": 19,
   "metadata": {},
   "outputs": [
    {
     "name": "stdout",
     "output_type": "stream",
     "text": [
      "data/daquar/qa.894.raw.train.format_triple.1\n",
      "data/daquar/qa.894.raw.train.format_triple.2\n",
      "data/daquar/qa.894.raw.train.format_triple.3\n",
      "data/daquar/qa.894.raw.train.format_triple.4\n",
      "data/daquar/qa.894.raw.train.format_triple.5\n",
      "data/daquar/qa.894.raw.train.format_triple.6\n",
      "data/daquar/qa.894.raw.train.format_triple.7\n",
      "data/daquar/qa.894.raw.train.format_triple.8\n",
      "data/daquar/qa.894.raw.train.format_triple.answers\n",
      "data/daquar/qa.894.raw.train.format_triple.contexts\n",
      "data/daquar/qa.894.raw.train.format_triple.metadata.npy\n",
      "data/daquar/qa.894.raw.train.format_triple.questions\n",
      "data/daquar/qa.894.raw.test.format_triple.1\n",
      "data/daquar/qa.894.raw.test.format_triple.2\n",
      "data/daquar/qa.894.raw.test.format_triple.3\n",
      "data/daquar/qa.894.raw.test.format_triple.4\n",
      "data/daquar/qa.894.raw.test.format_triple.5\n",
      "data/daquar/qa.894.raw.test.format_triple.6\n",
      "data/daquar/qa.894.raw.test.format_triple.7\n",
      "data/daquar/qa.894.raw.test.format_triple.8\n",
      "data/daquar/qa.894.raw.test.format_triple.answers\n",
      "data/daquar/qa.894.raw.test.format_triple.contexts\n",
      "data/daquar/qa.894.raw.test.format_triple.metadata.npy\n",
      "data/daquar/qa.894.raw.test.format_triple.questions\n"
     ]
    }
   ],
   "source": [
    "! ls data/daquar/qa.894.raw.train.format_triple.*\n",
    "! ls data/daquar/qa.894.raw.test.format_triple.*"
   ]
  },
  {
   "cell_type": "code",
   "execution_count": 20,
   "metadata": {},
   "outputs": [
    {
     "name": "stdout",
     "output_type": "stream",
     "text": [
      "what is on the right side of the black telephone and on the left side of the red chair \r\n",
      "what is in front of the white door on the left side of the desk \r\n",
      "what is on the desk \r\n",
      "what is the largest brown objects \r\n",
      "what color is the chair in front of the white wall \r\n",
      "what is on the right side of the notebook on the desk \r\n",
      "what is on the right and left and in front of the papers on the desk \r\n",
      "what is on the desk and behind the black cup \r\n",
      "how many bottles are on the desk \r\n",
      "what is in front of the papers and notebook and bottles \r\n"
     ]
    }
   ],
   "source": [
    "!  head data/daquar/qa.894.raw.train.format_triple.questions"
   ]
  },
  {
   "cell_type": "code",
   "execution_count": 21,
   "metadata": {},
   "outputs": [],
   "source": [
    "# Now, we can read from preprocessed files but still there are some preprocessing left to do"
   ]
  },
  {
   "cell_type": "code",
   "execution_count": 22,
   "metadata": {},
   "outputs": [],
   "source": [
    "metadata = np.load('data/daquar/qa.894.raw.train.format_triple.metadata.npy')[None][0]\n",
    "question_len = metadata['questions']['max_len']\n",
    "vocab = metadata['questions']['vocab']\n",
    "# dump the frequencies:\n",
    "vocab = ['<pad>', '<unk>', '?']+[w for w,f in vocab.items()]# if f > 1] # don't keep the rare words.\n",
    "word2index = defaultdict(lambda: 1, zip(vocab, range(len(vocab)))) # this will set <unk> for unknwon words\n",
    "#{w: wid for wid, w in enumerate(vocab)}\n",
    "answers = metadata['answers']['vocab']\n",
    "answers = ['<unk>']+[w for w,f in answers.items()]# if f > 1] # don't keep the rare answers.\n",
    "answer2index = defaultdict(lambda: 0, zip(answers, range(len(answers)))) # this will set <unk> for unknwon words\n",
    "#{w: wid for wid, w in enumerate(answers)}"
   ]
  },
  {
   "cell_type": "markdown",
   "metadata": {},
   "source": [
    "When in order to deal with large files in python we need to write generators. But for this tutorial we are not working with very large dataset. So, we can pus all training data lists:"
   ]
  },
  {
   "cell_type": "code",
   "execution_count": 23,
   "metadata": {},
   "outputs": [],
   "source": [
    "X_questions = [\n",
    "    [word2index['<pad>']]*(question_len-len(line.split()))+[word2index[w.strip()] for w in line.split()]+[word2index['?']]\n",
    "    for line in open('data/daquar/qa.894.raw.train.format_triple.questions')\n",
    "]\n",
    "\n",
    "Y_answers = [\n",
    "    [answer2index[w.strip()] for w in line.split()]\n",
    "    for line in open('data/daquar/qa.894.raw.train.format_triple.answers')\n",
    "]"
   ]
  },
  {
   "cell_type": "code",
   "execution_count": 24,
   "metadata": {},
   "outputs": [
    {
     "name": "stdout",
     "output_type": "stream",
     "text": [
      "[0, 0, 0, 0, 0, 0, 0, 0, 0, 3, 4, 5, 6, 7, 8, 9, 6, 10, 11, 12, 5, 6, 13, 8, 9, 6, 14, 15, 2]\n"
     ]
    }
   ],
   "source": [
    "print(X_questions[0])"
   ]
  },
  {
   "cell_type": "code",
   "execution_count": 25,
   "metadata": {},
   "outputs": [],
   "source": [
    "# this code takes time:\n",
    "X_images = [\n",
    "    img2vec(\"data/daquar/images/{0}.png\".format(image_name.strip()))\n",
    "    for image_name in open('data/daquar/qa.894.raw.train.format_triple.contexts')\n",
    "]"
   ]
  },
  {
   "cell_type": "code",
   "execution_count": 26,
   "metadata": {},
   "outputs": [
    {
     "data": {
      "text/plain": [
       "(100352,)"
      ]
     },
     "execution_count": 26,
     "metadata": {},
     "output_type": "execute_result"
    }
   ],
   "source": [
    "X_images[0].shape"
   ]
  },
  {
   "cell_type": "code",
   "execution_count": 27,
   "metadata": {},
   "outputs": [],
   "source": [
    "# repeat questions with several answers, and flatten them with one answer:\n",
    "trainig_data = list(zip(*[(q,i,a) for q, i, a_s in zip(X_questions,X_images,Y_answers) for a in a_s]))"
   ]
  },
  {
   "cell_type": "code",
   "execution_count": 28,
   "metadata": {},
   "outputs": [
    {
     "name": "stdout",
     "output_type": "stream",
     "text": [
      "100352\n"
     ]
    }
   ],
   "source": [
    "X_train = [np.array(trainig_data[0]), np.array(trainig_data[1])]\n",
    "X_train_only_question = np.array(trainig_data[0])\n",
    "Y_train = np.array(trainig_data[2])\n",
    "visual_vec_len = 2048 #X_train[1].shape[1]\n",
    "print(X_train[1].shape[1])"
   ]
  },
  {
   "cell_type": "code",
   "execution_count": 29,
   "metadata": {},
   "outputs": [
    {
     "name": "stdout",
     "output_type": "stream",
     "text": [
      "the number of all possible answers: 500\n",
      "the size of vocabulary: 879\n",
      "the total number of training samples 7768\n",
      "the total number of images 794\n",
      "the shape of the image vector: 7768\n",
      "the shape of the image vector: 100352\n",
      "the shape of the image vector: (7768, 100352)\n"
     ]
    }
   ],
   "source": [
    "print('the number of all possible answers:', len(answers))\n",
    "print('the size of vocabulary:', len(vocab))\n",
    "print('the total number of training samples', len(Y_train))\n",
    "print('the total number of images', len(set([image_name for image_name in open('data/daquar/qa.894.raw.train.format_triple.contexts')])))\n",
    "print('the shape of the image vector:', X_train[1].shape[0])\n",
    "print('the shape of the image vector:', X_train[1].shape[1])\n",
    "print('the shape of the image vector:', X_train[1].shape)\n"
   ]
  },
  {
   "cell_type": "code",
   "execution_count": 30,
   "metadata": {},
   "outputs": [],
   "source": [
    "X_questions_test = [\n",
    "    [word2index['<pad>']]*(question_len-len(line.split()))+[word2index[w.strip()] for w in line.split()][:question_len]+[word2index['?']]\n",
    "    for line in open('data/daquar/qa.894.raw.test.format_triple.questions')\n",
    "]\n",
    "\n",
    "Y_answers_test = [\n",
    "    [answer2index[w.strip()] for w in line.split()]\n",
    "    for line in open('data/daquar/qa.894.raw.test.format_triple.answers')\n",
    "]\n",
    "\n",
    "# this code takes time:\n",
    "X_images_test = [\n",
    "    img2vec(\"data/daquar/images/{0}.png\".format(image_name.strip()))\n",
    "    for image_name in open('data/daquar/qa.894.raw.test.format_triple.contexts')\n",
    "]\n",
    "\n",
    "test_data = list(zip(*[(q,i,a) for q, i, a_s in zip(X_questions_test,X_images_test,Y_answers_test) for a in a_s]))\n",
    "\n",
    "X_test = [np.array(test_data[0]), np.array(test_data[1])]\n",
    "\n",
    "Y_test = np.array(test_data[2])"
   ]
  },
  {
   "cell_type": "code",
   "execution_count": 31,
   "metadata": {},
   "outputs": [
    {
     "data": {
      "text/plain": [
       "array([  0,   0,   0,   0,   0,   0,   0,   3,   4,   5,   6,  13,   8,\n",
       "         9,   6,  19, 187,   5,   6,  66,  12,   5,   7,   8,   9,   6,\n",
       "        43, 226,   2])"
      ]
     },
     "execution_count": 31,
     "metadata": {},
     "output_type": "execute_result"
    }
   ],
   "source": [
    "X_test[0][0]"
   ]
  },
  {
   "cell_type": "markdown",
   "metadata": {},
   "source": [
    "### A Keras model"
   ]
  },
  {
   "cell_type": "code",
   "execution_count": 32,
   "metadata": {},
   "outputs": [],
   "source": [
    "from keras.models import load_model\n",
    "from keras.models import Sequential, Model\n",
    "from keras.layers import Dense, LSTM, Embedding, Concatenate, Dropout, Multiply, Add, Lambda, Activation\n",
    "from keras.layers import Input\n",
    "from keras.layers import AveragePooling2D, MaxPooling2D, Reshape, Flatten\n",
    "from keras.callbacks import EarlyStopping\n",
    "import keras.backend as K\n",
    "from scipy.misc import imresize\n",
    "import tensorflow as tf"
   ]
  },
  {
   "cell_type": "code",
   "execution_count": 33,
   "metadata": {},
   "outputs": [],
   "source": [
    "#cross modal compositions\n",
    "\n",
    "def cross_modal_comp0(v, q):\n",
    "    # trnasform v before\n",
    "#     v_transform = Dense(300)(v)\n",
    "\n",
    "    # flatten v then concatenate\n",
    "    comp = Lambda(lambda x: K.concatenate([\n",
    "        K.reshape(x[0], [-1, 2048]),\n",
    "        x[1]\n",
    "    ]))([v, q])\n",
    "    \n",
    "    return comp\n",
    "\n",
    "def cross_modal_comp1(v, q):\n",
    "    # repeat q then concatenate with all possible locations.\n",
    "    comp = Lambda(lambda x: K.concatenate([\n",
    "        x[0],\n",
    "        K.reshape(K.repeat_elements(K.expand_dims(x[1], 1), 49, 1), [-1,7,7,300])\n",
    "    ], -1))([v, q])\n",
    "    return comp\n",
    "\n",
    "def cross_modal_comp2(v, q):\n",
    "    # repeat q then concatenate with all possible locations.\n",
    "    comp = Lambda(lambda x: K.concatenate([\n",
    "        x[0], \n",
    "        K.reshape(K.repeat_elements(K.expand_dims(x[1], 2), 49, 2), [-1,7,7,300])\n",
    "    ]))([v, q])\n",
    "    # trnasform comp\n",
    "#     comp = Dense(2048, activation='relu')(Flatten()(comp))\n",
    "    return comp"
   ]
  },
  {
   "cell_type": "code",
   "execution_count": 29,
   "metadata": {},
   "outputs": [],
   "source": [
    "# #model with only text part\n",
    "# dropout_value = 0.3\n",
    "# embedding_output_dim = 300\n",
    "\n",
    "# composition_type = \"only_text\"\n",
    "\n",
    "# model = Sequential([\n",
    "#     Embedding(len(vocab), embedding_output_dim),\n",
    "#     LSTM(embedding_output_dim),\n",
    "#     Dense(visual_vec_len, activation='relu'),\n",
    "#     Dropout(dropout_value),\n",
    "#     Dense(len(answers), activation='softmax'),\n",
    "# ])\n",
    "# model.summary()"
   ]
  },
  {
   "cell_type": "code",
   "execution_count": 30,
   "metadata": {},
   "outputs": [
    {
     "name": "stdout",
     "output_type": "stream",
     "text": [
      "879\n",
      "(?, 2048)\n",
      "(?, ?)\n",
      "(?, 4096)\n",
      "__________________________________________________________________________________________________\n",
      "Layer (type)                    Output Shape         Param #     Connected to                     \n",
      "==================================================================================================\n",
      "input_2 (InputLayer)            (None, 100352)       0                                            \n",
      "__________________________________________________________________________________________________\n",
      "input_1 (InputLayer)            (None, 29)           0                                            \n",
      "__________________________________________________________________________________________________\n",
      "reshape_1 (Reshape)             (None, 7, 7, 2048)   0           input_2[0][0]                    \n",
      "__________________________________________________________________________________________________\n",
      "embedding_1 (Embedding)         (None, 29, 300)      263700      input_1[0][0]                    \n",
      "__________________________________________________________________________________________________\n",
      "average_pooling2d_1 (AveragePoo (None, 1, 1, 2048)   0           reshape_1[0][0]                  \n",
      "__________________________________________________________________________________________________\n",
      "lstm_1 (LSTM)                   (None, 300)          721200      embedding_1[0][0]                \n",
      "__________________________________________________________________________________________________\n",
      "flatten_1 (Flatten)             (None, 2048)         0           average_pooling2d_1[0][0]        \n",
      "__________________________________________________________________________________________________\n",
      "dense_1 (Dense)                 (None, 2048)         616448      lstm_1[0][0]                     \n",
      "__________________________________________________________________________________________________\n",
      "lambda_1 (Lambda)               (None, 4096)         0           flatten_1[0][0]                  \n",
      "                                                                 dense_1[0][0]                    \n",
      "__________________________________________________________________________________________________\n",
      "dense_2 (Dense)                 (None, 2048)         8390656     lambda_1[0][0]                   \n",
      "__________________________________________________________________________________________________\n",
      "dropout_1 (Dropout)             (None, 2048)         0           dense_2[0][0]                    \n",
      "__________________________________________________________________________________________________\n",
      "dense_3 (Dense)                 (None, 500)          1024500     dropout_1[0][0]                  \n",
      "==================================================================================================\n",
      "Total params: 11,016,504\n",
      "Trainable params: 11,016,504\n",
      "Non-trainable params: 0\n",
      "__________________________________________________________________________________________________\n"
     ]
    }
   ],
   "source": [
    "dropout_value = 0.3\n",
    "embedding_output_dim = 300\n",
    "#choose what composition type will be used\n",
    "composition_type = \"comp0\"\n",
    "\n",
    "input_question = Input([question_len+1,])\n",
    "input_context = Input([7*7*2048,])\n",
    "\n",
    "# learn embedings (size=300 as we chose just now :D)\n",
    "q_embs = Embedding(len(vocab), embedding_output_dim)(input_question)\n",
    "print(len(vocab))\n",
    "\n",
    "# encode the question\n",
    "q_encoded = LSTM(embedding_output_dim)(q_embs)\n",
    "\n",
    "mlp_1 = Dense(visual_vec_len, activation='tanh')(q_encoded)\n",
    "print (mlp_1.shape)\n",
    "\n",
    "# spatial average\n",
    "vis_vec = Flatten()(AveragePooling2D([7,7])(Reshape([7,7,2048])(input_context)))\n",
    "print(vis_vec.shape)\n",
    "# question + image\n",
    "if composition_type == \"multiply\":\n",
    "    q_composed = Multiply()([vis_vec, mlp_1])\n",
    "elif composition_type == \"concatenate\":\n",
    "    q_composed = Concatenate()([vis_vec, mlp_1])\n",
    "elif composition_type == \"add\":\n",
    "    q_composed = Add()([vis_vec, mlp_1])\n",
    "elif composition_type == \"comp0\":\n",
    "    q_composed = cross_modal_comp0(vis_vec, mlp_1)\n",
    "\n",
    "print (q_composed.shape)    \n",
    "\n",
    "mlp_2 = Dropout(dropout_value)(Dense(visual_vec_len, activation='relu')(q_composed))\n",
    "\n",
    "final_a = Dense(len(answers), activation='softmax')(mlp_2)\n",
    "\n",
    "model = Model([input_question, input_context], final_a)\n",
    "model.summary()"
   ]
  },
  {
   "cell_type": "code",
   "execution_count": 31,
   "metadata": {},
   "outputs": [
    {
     "name": "stdout",
     "output_type": "stream",
     "text": [
      "879\n"
     ]
    },
    {
     "ename": "NameError",
     "evalue": "name 'mlp_1' is not defined",
     "output_type": "error",
     "traceback": [
      "\u001b[0;31m---------------------------------------------------------------------------\u001b[0m",
      "\u001b[0;31mNameError\u001b[0m                                 Traceback (most recent call last)",
      "\u001b[0;32m<ipython-input-31-75d27a61b303>\u001b[0m in \u001b[0;36m<module>\u001b[0;34m()\u001b[0m\n\u001b[1;32m     28\u001b[0m     \u001b[0mq_composed\u001b[0m \u001b[0;34m=\u001b[0m \u001b[0mAdd\u001b[0m\u001b[0;34m(\u001b[0m\u001b[0;34m)\u001b[0m\u001b[0;34m(\u001b[0m\u001b[0;34m[\u001b[0m\u001b[0mvis_vec\u001b[0m\u001b[0;34m,\u001b[0m \u001b[0mmlp_1\u001b[0m\u001b[0;34m]\u001b[0m\u001b[0;34m)\u001b[0m\u001b[0;34m\u001b[0m\u001b[0m\n\u001b[1;32m     29\u001b[0m \u001b[0;32melif\u001b[0m \u001b[0mcomposition_type\u001b[0m \u001b[0;34m==\u001b[0m \u001b[0;34m\"comp0\"\u001b[0m\u001b[0;34m:\u001b[0m\u001b[0;34m\u001b[0m\u001b[0m\n\u001b[0;32m---> 30\u001b[0;31m     \u001b[0mq_composed\u001b[0m \u001b[0;34m=\u001b[0m \u001b[0mcross_modal_comp0\u001b[0m\u001b[0;34m(\u001b[0m\u001b[0mvis_vec\u001b[0m\u001b[0;34m,\u001b[0m \u001b[0mmlp_1\u001b[0m\u001b[0;34m)\u001b[0m\u001b[0;34m\u001b[0m\u001b[0m\n\u001b[0m\u001b[1;32m     31\u001b[0m \u001b[0;32melif\u001b[0m \u001b[0mcomposition_type\u001b[0m \u001b[0;34m==\u001b[0m \u001b[0;34m\"comp1\"\u001b[0m\u001b[0;34m:\u001b[0m\u001b[0;34m\u001b[0m\u001b[0m\n\u001b[1;32m     32\u001b[0m \u001b[0;34m\u001b[0m\u001b[0m\n",
      "\u001b[0;31mNameError\u001b[0m: name 'mlp_1' is not defined"
     ]
    }
   ],
   "source": [
    "dropout_value = 0.3\n",
    "embedding_output_dim = 300\n",
    "#choose what composition type will be used\n",
    "composition_type = \"comp1\"\n",
    "\n",
    "input_question = Input([question_len+1,])\n",
    "input_context = Input([7*7*2048,])\n",
    "\n",
    "# learn embedings (size=300 as we chose just now :D)\n",
    "q_embs = Embedding(len(vocab), embedding_output_dim)(input_question)\n",
    "print(len(vocab))\n",
    "\n",
    "v_reshaped = Lambda(lambda x: K.reshape(x, [-1, 7, 7, 2048]))([input_context])\n",
    "\n",
    "# encode the question\n",
    "q_encoded = LSTM(embedding_output_dim)(q_embs)\n",
    "\n",
    "\n",
    "# spatial average\n",
    "# vis_vec = Flatten()(AveragePooling2D([7,7])(Reshape([7,7,2048])(input_context)))\n",
    "# print(vis_vec.shape)\n",
    "# question + image\n",
    "if composition_type == \"multiply\":\n",
    "    q_composed = Multiply()([vis_vec, mlp_1])\n",
    "elif composition_type == \"concatenate\":\n",
    "    q_composed = Concatenate()([vis_vec, mlp_1])\n",
    "elif composition_type == \"add\":\n",
    "    q_composed = Add()([vis_vec, mlp_1])\n",
    "elif composition_type == \"comp0\":\n",
    "    q_composed = cross_modal_comp0(vis_vec, mlp_1)\n",
    "elif composition_type == \"comp1\":\n",
    "    \n",
    "    q_composed = cross_modal_comp1(v_reshaped, q_encoded)\n",
    "    print(q_composed.shape)\n",
    "    q_composed = AveragePooling2D([7,7])(q_composed)\n",
    "    q_composed = Flatten()(q_composed)\n",
    "print (q_composed.shape)    \n",
    "print(visual_vec_len)\n",
    "mlp_2 = Dropout(dropout_value)(Dense(visual_vec_len, activation='relu')(q_composed))\n",
    "\n",
    "# mlp_2 = Dropout(dropout_value)(Dense(50, activation='relu')(q_composed))\n",
    "\n",
    "final_a = Dense(len(answers), activation='softmax')(mlp_2)\n",
    "\n",
    "model = Model([input_question, input_context], final_a)\n",
    "model.summary()"
   ]
  },
  {
   "cell_type": "code",
   "execution_count": 78,
   "metadata": {},
   "outputs": [
    {
     "name": "stdout",
     "output_type": "stream",
     "text": [
      "879\n",
      "(?, 2048)\n",
      "2048\n",
      "__________________________________________________________________________________________________\n",
      "Layer (type)                    Output Shape         Param #     Connected to                     \n",
      "==================================================================================================\n",
      "input_18 (InputLayer)           (None, 100352)       0                                            \n",
      "__________________________________________________________________________________________________\n",
      "input_17 (InputLayer)           (None, 29)           0                                            \n",
      "__________________________________________________________________________________________________\n",
      "reshape_9 (Reshape)             (None, 7, 7, 2048)   0           input_18[0][0]                   \n",
      "__________________________________________________________________________________________________\n",
      "embedding_9 (Embedding)         (None, 29, 300)      263700      input_17[0][0]                   \n",
      "__________________________________________________________________________________________________\n",
      "average_pooling2d_9 (AveragePoo (None, 1, 1, 2048)   0           reshape_9[0][0]                  \n",
      "__________________________________________________________________________________________________\n",
      "lstm_9 (LSTM)                   (None, 300)          721200      embedding_9[0][0]                \n",
      "__________________________________________________________________________________________________\n",
      "flatten_9 (Flatten)             (None, 2048)         0           average_pooling2d_9[0][0]        \n",
      "__________________________________________________________________________________________________\n",
      "dense_25 (Dense)                (None, 2048)         616448      lstm_9[0][0]                     \n",
      "__________________________________________________________________________________________________\n",
      "add_9 (Add)                     (None, 2048)         0           flatten_9[0][0]                  \n",
      "                                                                 dense_25[0][0]                   \n",
      "__________________________________________________________________________________________________\n",
      "dense_26 (Dense)                (None, 2048)         4196352     add_9[0][0]                      \n",
      "__________________________________________________________________________________________________\n",
      "dropout_9 (Dropout)             (None, 2048)         0           dense_26[0][0]                   \n",
      "__________________________________________________________________________________________________\n",
      "dense_27 (Dense)                (None, 500)          1024500     dropout_9[0][0]                  \n",
      "==================================================================================================\n",
      "Total params: 6,822,200\n",
      "Trainable params: 6,822,200\n",
      "Non-trainable params: 0\n",
      "__________________________________________________________________________________________________\n"
     ]
    }
   ],
   "source": [
    "dropout_value = 0.3\n",
    "embedding_output_dim = 300\n",
    "#choose what composition type will be used\n",
    "composition_type = \"add\"\n",
    "\n",
    "input_question = Input([question_len+1,])\n",
    "input_context = Input([7*7*2048,])\n",
    "\n",
    "# learn embedings (size=300 as we chose just now :D)\n",
    "q_embs = Embedding(len(vocab), embedding_output_dim)(input_question)\n",
    "print(len(vocab))\n",
    "\n",
    "#for comp1 and comp2\n",
    "# v_reshaped = Lambda(lambda x: K.reshape(x, [-1, 7, 7, 2048]))([input_context])\n",
    "\n",
    "# encode the question\n",
    "q_encoded = LSTM(embedding_output_dim)(q_embs)\n",
    "\n",
    "mlp_1 = Dense(visual_vec_len, activation='tanh')(q_encoded)\n",
    "\n",
    "# spatial average\n",
    "vis_vec = Flatten()(AveragePooling2D([7,7])(Reshape([7,7,2048])(input_context)))\n",
    "# print(vis_vec.shape)\n",
    "# question + image\n",
    "if composition_type == \"multiply\":\n",
    "    q_composed = Multiply()([vis_vec, mlp_1])\n",
    "elif composition_type == \"concatenate\":\n",
    "    q_composed = Concatenate()([vis_vec, mlp_1])\n",
    "elif composition_type == \"add\":\n",
    "    q_composed = Add()([vis_vec, mlp_1])\n",
    "elif composition_type == \"comp0\":\n",
    "    q_composed = cross_modal_comp0(vis_vec, mlp_1)\n",
    "elif composition_type == \"comp1\":\n",
    "    \n",
    "    q_composed = cross_modal_comp1(v_reshaped, q_encoded)\n",
    "    q_composed = AveragePooling2D([7,7])(q_composed)\n",
    "    q_composed = Flatten()(q_composed)\n",
    "elif composition_type == \"comp2\":\n",
    "    \n",
    "    q_composed = cross_modal_comp2(v_reshaped, q_encoded)\n",
    "    q_composed = AveragePooling2D([7,7])(q_composed)\n",
    "    q_composed = Flatten()(q_composed)\n",
    "print (q_composed.shape)    \n",
    "print(visual_vec_len)\n",
    "mlp_2 = Dropout(dropout_value)(Dense(visual_vec_len, activation='relu')(q_composed))\n",
    "\n",
    "# mlp_2 = Dropout(dropout_value)(Dense(50, activation='relu')(q_composed))\n",
    "\n",
    "final_a = Dense(len(answers), activation='softmax')(mlp_2)\n",
    "\n",
    "model = Model([input_question, input_context], final_a)\n",
    "model.summary()"
   ]
  },
  {
   "cell_type": "code",
   "execution_count": 41,
   "metadata": {},
   "outputs": [
    {
     "name": "stdout",
     "output_type": "stream",
     "text": [
      "879\n",
      "(?, 2048)\n",
      "2048\n",
      "(?, 49)\n",
      "(?, 7, 7, 1)\n",
      "(?, 7, 7, 2048)\n",
      "shape of vis and text2\n",
      "(?, ?)\n",
      "__________________________________________________________________________________________________\n",
      "Layer (type)                    Output Shape         Param #     Connected to                     \n",
      "==================================================================================================\n",
      "input_6 (InputLayer)            (None, 100352)       0                                            \n",
      "__________________________________________________________________________________________________\n",
      "input_5 (InputLayer)            (None, 29)           0                                            \n",
      "__________________________________________________________________________________________________\n",
      "reshape_5 (Reshape)             (None, 7, 7, 2048)   0           input_6[0][0]                    \n",
      "__________________________________________________________________________________________________\n",
      "embedding_3 (Embedding)         (None, 29, 300)      263700      input_5[0][0]                    \n",
      "__________________________________________________________________________________________________\n",
      "average_pooling2d_5 (AveragePoo (None, 1, 1, 2048)   0           reshape_5[0][0]                  \n",
      "__________________________________________________________________________________________________\n",
      "lstm_3 (LSTM)                   (None, 300)          721200      embedding_3[0][0]                \n",
      "__________________________________________________________________________________________________\n",
      "flatten_5 (Flatten)             (None, 2048)         0           average_pooling2d_5[0][0]        \n",
      "__________________________________________________________________________________________________\n",
      "dense_9 (Dense)                 (None, 2048)         616448      lstm_3[0][0]                     \n",
      "__________________________________________________________________________________________________\n",
      "multiply_5 (Multiply)           (None, 2048)         0           flatten_5[0][0]                  \n",
      "                                                                 dense_9[0][0]                    \n",
      "__________________________________________________________________________________________________\n",
      "dense_10 (Dense)                (None, 49)           100401      multiply_5[0][0]                 \n",
      "__________________________________________________________________________________________________\n",
      "lambda_5 (Lambda)               (None, 7, 7, 2048)   0           input_6[0][0]                    \n",
      "__________________________________________________________________________________________________\n",
      "reshape_6 (Reshape)             (None, 7, 7, 1)      0           dense_10[0][0]                   \n",
      "__________________________________________________________________________________________________\n",
      "lambda_6 (Lambda)               (None, 7, 7, 2048)   0           lambda_5[0][0]                   \n",
      "                                                                 reshape_6[0][0]                  \n",
      "__________________________________________________________________________________________________\n",
      "average_pooling2d_6 (AveragePoo (None, 1, 1, 2048)   0           lambda_6[0][0]                   \n",
      "__________________________________________________________________________________________________\n",
      "flatten_6 (Flatten)             (None, 2048)         0           average_pooling2d_6[0][0]        \n",
      "__________________________________________________________________________________________________\n",
      "concatenate_1 (Concatenate)     (None, 4096)         0           flatten_6[0][0]                  \n",
      "                                                                 dense_9[0][0]                    \n",
      "__________________________________________________________________________________________________\n",
      "dense_11 (Dense)                (None, 2048)         8390656     concatenate_1[0][0]              \n",
      "__________________________________________________________________________________________________\n",
      "dropout_3 (Dropout)             (None, 2048)         0           dense_11[0][0]                   \n",
      "__________________________________________________________________________________________________\n",
      "dense_12 (Dense)                (None, 500)          1024500     dropout_3[0][0]                  \n",
      "==================================================================================================\n",
      "Total params: 11,116,905\n",
      "Trainable params: 11,116,905\n",
      "Non-trainable params: 0\n",
      "__________________________________________________________________________________________________\n"
     ]
    }
   ],
   "source": [
    "dropout_value = 0.3\n",
    "embedding_output_dim = 300\n",
    "#choose what composition type will be used\n",
    "composition_type = \"multiply\"\n",
    "\n",
    "input_question = Input([question_len+1,])\n",
    "input_context = Input([7*7*2048,])\n",
    "\n",
    "# learn embedings (size=300 as we chose just now :D)\n",
    "q_embs = Embedding(len(vocab), embedding_output_dim)(input_question)\n",
    "print(len(vocab))\n",
    "\n",
    "#for comp1 and comp2\n",
    "# v_reshaped = Lambda(lambda x: K.reshape(x, [-1, 7, 7, 2048]))([input_context])\n",
    "\n",
    "# encode the question\n",
    "q_encoded = LSTM(embedding_output_dim)(q_embs)\n",
    "\n",
    "mlp_1 = Dense(visual_vec_len, activation='tanh')(q_encoded)\n",
    "\n",
    "# spatial average\n",
    "vis_vec = Flatten()(AveragePooling2D([7,7])(Reshape([7,7,2048])(input_context)))\n",
    "# print(vis_vec.shape)\n",
    "# question + image\n",
    "if composition_type == \"multiply\":\n",
    "    q_composed = Multiply()([vis_vec, mlp_1])\n",
    "elif composition_type == \"concatenate\":\n",
    "    q_composed = Concatenate()([vis_vec, mlp_1])\n",
    "elif composition_type == \"add\":\n",
    "    q_composed = Add()([vis_vec, mlp_1])\n",
    "elif composition_type == \"comp0\":\n",
    "    q_composed = cross_modal_comp0(vis_vec, mlp_1)\n",
    "elif composition_type == \"comp1\":\n",
    "    \n",
    "    q_composed = cross_modal_comp1(v_reshaped, q_encoded)\n",
    "    q_composed = AveragePooling2D([7,7])(q_composed)\n",
    "    q_composed = Flatten()(q_composed)\n",
    "elif composition_type == \"comp2\":\n",
    "    \n",
    "    q_composed = cross_modal_comp2(v_reshaped, q_encoded)\n",
    "    q_composed = AveragePooling2D([7,7])(q_composed)\n",
    "    q_composed = Flatten()(q_composed)\n",
    "print (q_composed.shape)    \n",
    "print(visual_vec_len)\n",
    "\n",
    "#attention\n",
    "# comp = Flatten()(q_composed)\n",
    "# print (comp.shape)\n",
    "alpha = Dense(49, activation='softmax')(q_composed)\n",
    "print (alpha.shape)\n",
    "alpha = Reshape([7,7,1])(alpha)\n",
    "print (alpha.shape)\n",
    "\n",
    "v_reshaped = Lambda(lambda x: K.reshape(x, [-1, 7, 7, 2048]))([input_context])\n",
    "\n",
    "ski_mask = Lambda(lambda x: x[0] * x[1])([v_reshaped, alpha])\n",
    "\n",
    "print(ski_mask.shape)\n",
    "flattened_attention = Flatten()(AveragePooling2D([7,7])(ski_mask))\n",
    "vis_and_text2 = Concatenate()([flattened_attention, mlp_1])\n",
    "print('shape of vis and text2')\n",
    "print(vis_and_text2.shape)\n",
    "\n",
    "# comp2 = Flatten()(vis_and_text2)\n",
    "\n",
    "\n",
    "\n",
    "\n",
    "mlp_2 = Dropout(dropout_value)(Dense(visual_vec_len, activation='relu')(vis_and_text2))\n",
    "\n",
    "# mlp_2 = Dropout(dropout_value)(Dense(50, activation='relu')(q_composed))\n",
    "\n",
    "final_a = Dense(len(answers), activation='softmax')(mlp_2)\n",
    "\n",
    "model = Model([input_question, input_context], final_a)\n",
    "model.summary()"
   ]
  },
  {
   "cell_type": "markdown",
   "metadata": {},
   "source": [
    "## Train the model"
   ]
  },
  {
   "cell_type": "code",
   "execution_count": 42,
   "metadata": {},
   "outputs": [],
   "source": [
    "# what is the loss, and how the parameters should be updated:\n",
    "model.compile('adam', 'sparse_categorical_crossentropy', metrics = ['accuracy'])"
   ]
  },
  {
   "cell_type": "code",
   "execution_count": 43,
   "metadata": {},
   "outputs": [],
   "source": [
    "from keras.utils import plot_model\n",
    "plot_model(model, to_file='model_graph_' + composition_type + '.png', show_shapes=True)"
   ]
  },
  {
   "cell_type": "markdown",
   "metadata": {},
   "source": [
    "![](model3.png)"
   ]
  },
  {
   "cell_type": "markdown",
   "metadata": {},
   "source": [
    "![](model2.png)"
   ]
  },
  {
   "cell_type": "code",
   "execution_count": 44,
   "metadata": {},
   "outputs": [
    {
     "name": "stdout",
     "output_type": "stream",
     "text": [
      "Train on 6991 samples, validate on 777 samples\n",
      "Epoch 1/30\n",
      "6991/6991 [==============================] - 19s 3ms/step - loss: 4.6595 - acc: 0.0933 - val_loss: 4.7606 - val_acc: 0.1197\n",
      "Epoch 2/30\n",
      "6991/6991 [==============================] - 17s 2ms/step - loss: 3.8714 - acc: 0.1749 - val_loss: 4.4977 - val_acc: 0.1429\n",
      "Epoch 3/30\n",
      "6991/6991 [==============================] - 17s 2ms/step - loss: 3.4709 - acc: 0.2128 - val_loss: 4.4741 - val_acc: 0.2059\n",
      "Epoch 4/30\n",
      "6991/6991 [==============================] - 16s 2ms/step - loss: 3.1415 - acc: 0.2580 - val_loss: 4.5145 - val_acc: 0.1866\n",
      "Epoch 5/30\n",
      "6991/6991 [==============================] - 16s 2ms/step - loss: 2.7974 - acc: 0.2995 - val_loss: 4.7361 - val_acc: 0.1866\n",
      "Epoch 6/30\n",
      "6991/6991 [==============================] - 17s 2ms/step - loss: 2.4793 - acc: 0.3589 - val_loss: 4.6920 - val_acc: 0.2252\n",
      "Epoch 7/30\n",
      "4512/6991 [==================>...........] - ETA: 5s - loss: 2.1282 - acc: 0.4094"
     ]
    },
    {
     "ename": "KeyboardInterrupt",
     "evalue": "",
     "output_type": "error",
     "traceback": [
      "\u001b[0;31m---------------------------------------------------------------------------\u001b[0m",
      "\u001b[0;31mKeyboardInterrupt\u001b[0m                         Traceback (most recent call last)",
      "\u001b[0;32m<ipython-input-44-e7e247c06bbc>\u001b[0m in \u001b[0;36m<module>\u001b[0;34m()\u001b[0m\n\u001b[1;32m      1\u001b[0m \u001b[0mnr_epochs\u001b[0m \u001b[0;34m=\u001b[0m \u001b[0;36m30\u001b[0m\u001b[0;34m\u001b[0m\u001b[0m\n\u001b[0;32m----> 2\u001b[0;31m \u001b[0mhistory\u001b[0m \u001b[0;34m=\u001b[0m \u001b[0mmodel\u001b[0m\u001b[0;34m.\u001b[0m\u001b[0mfit\u001b[0m\u001b[0;34m(\u001b[0m\u001b[0mX_train\u001b[0m\u001b[0;34m,\u001b[0m \u001b[0mY_train\u001b[0m\u001b[0;34m,\u001b[0m \u001b[0mepochs\u001b[0m\u001b[0;34m=\u001b[0m\u001b[0mnr_epochs\u001b[0m\u001b[0;34m,\u001b[0m \u001b[0mbatch_size\u001b[0m\u001b[0;34m=\u001b[0m\u001b[0;36m32\u001b[0m\u001b[0;34m,\u001b[0m \u001b[0mvalidation_split\u001b[0m\u001b[0;34m=\u001b[0m\u001b[0;36m0.1\u001b[0m\u001b[0;34m)\u001b[0m\u001b[0;34m\u001b[0m\u001b[0m\n\u001b[0m",
      "\u001b[0;32m/usr/local/lib/python3.6/site-packages/keras/engine/training.py\u001b[0m in \u001b[0;36mfit\u001b[0;34m(self, x, y, batch_size, epochs, verbose, callbacks, validation_split, validation_data, shuffle, class_weight, sample_weight, initial_epoch, steps_per_epoch, validation_steps, **kwargs)\u001b[0m\n\u001b[1;32m   1035\u001b[0m                                         \u001b[0minitial_epoch\u001b[0m\u001b[0;34m=\u001b[0m\u001b[0minitial_epoch\u001b[0m\u001b[0;34m,\u001b[0m\u001b[0;34m\u001b[0m\u001b[0m\n\u001b[1;32m   1036\u001b[0m                                         \u001b[0msteps_per_epoch\u001b[0m\u001b[0;34m=\u001b[0m\u001b[0msteps_per_epoch\u001b[0m\u001b[0;34m,\u001b[0m\u001b[0;34m\u001b[0m\u001b[0m\n\u001b[0;32m-> 1037\u001b[0;31m                                         validation_steps=validation_steps)\n\u001b[0m\u001b[1;32m   1038\u001b[0m \u001b[0;34m\u001b[0m\u001b[0m\n\u001b[1;32m   1039\u001b[0m     def evaluate(self, x=None, y=None,\n",
      "\u001b[0;32m/usr/local/lib/python3.6/site-packages/keras/engine/training_arrays.py\u001b[0m in \u001b[0;36mfit_loop\u001b[0;34m(model, f, ins, out_labels, batch_size, epochs, verbose, callbacks, val_f, val_ins, shuffle, callback_metrics, initial_epoch, steps_per_epoch, validation_steps)\u001b[0m\n\u001b[1;32m    197\u001b[0m                     \u001b[0mins_batch\u001b[0m\u001b[0;34m[\u001b[0m\u001b[0mi\u001b[0m\u001b[0;34m]\u001b[0m \u001b[0;34m=\u001b[0m \u001b[0mins_batch\u001b[0m\u001b[0;34m[\u001b[0m\u001b[0mi\u001b[0m\u001b[0;34m]\u001b[0m\u001b[0;34m.\u001b[0m\u001b[0mtoarray\u001b[0m\u001b[0;34m(\u001b[0m\u001b[0;34m)\u001b[0m\u001b[0;34m\u001b[0m\u001b[0m\n\u001b[1;32m    198\u001b[0m \u001b[0;34m\u001b[0m\u001b[0m\n\u001b[0;32m--> 199\u001b[0;31m                 \u001b[0mouts\u001b[0m \u001b[0;34m=\u001b[0m \u001b[0mf\u001b[0m\u001b[0;34m(\u001b[0m\u001b[0mins_batch\u001b[0m\u001b[0;34m)\u001b[0m\u001b[0;34m\u001b[0m\u001b[0m\n\u001b[0m\u001b[1;32m    200\u001b[0m                 \u001b[0mouts\u001b[0m \u001b[0;34m=\u001b[0m \u001b[0mto_list\u001b[0m\u001b[0;34m(\u001b[0m\u001b[0mouts\u001b[0m\u001b[0;34m)\u001b[0m\u001b[0;34m\u001b[0m\u001b[0m\n\u001b[1;32m    201\u001b[0m                 \u001b[0;32mfor\u001b[0m \u001b[0ml\u001b[0m\u001b[0;34m,\u001b[0m \u001b[0mo\u001b[0m \u001b[0;32min\u001b[0m \u001b[0mzip\u001b[0m\u001b[0;34m(\u001b[0m\u001b[0mout_labels\u001b[0m\u001b[0;34m,\u001b[0m \u001b[0mouts\u001b[0m\u001b[0;34m)\u001b[0m\u001b[0;34m:\u001b[0m\u001b[0;34m\u001b[0m\u001b[0m\n",
      "\u001b[0;32m/usr/local/lib/python3.6/site-packages/keras/backend/tensorflow_backend.py\u001b[0m in \u001b[0;36m__call__\u001b[0;34m(self, inputs)\u001b[0m\n\u001b[1;32m   2664\u001b[0m                 \u001b[0;32mreturn\u001b[0m \u001b[0mself\u001b[0m\u001b[0;34m.\u001b[0m\u001b[0m_legacy_call\u001b[0m\u001b[0;34m(\u001b[0m\u001b[0minputs\u001b[0m\u001b[0;34m)\u001b[0m\u001b[0;34m\u001b[0m\u001b[0m\n\u001b[1;32m   2665\u001b[0m \u001b[0;34m\u001b[0m\u001b[0m\n\u001b[0;32m-> 2666\u001b[0;31m             \u001b[0;32mreturn\u001b[0m \u001b[0mself\u001b[0m\u001b[0;34m.\u001b[0m\u001b[0m_call\u001b[0m\u001b[0;34m(\u001b[0m\u001b[0minputs\u001b[0m\u001b[0;34m)\u001b[0m\u001b[0;34m\u001b[0m\u001b[0m\n\u001b[0m\u001b[1;32m   2667\u001b[0m         \u001b[0;32melse\u001b[0m\u001b[0;34m:\u001b[0m\u001b[0;34m\u001b[0m\u001b[0m\n\u001b[1;32m   2668\u001b[0m             \u001b[0;32mif\u001b[0m \u001b[0mpy_any\u001b[0m\u001b[0;34m(\u001b[0m\u001b[0mis_tensor\u001b[0m\u001b[0;34m(\u001b[0m\u001b[0mx\u001b[0m\u001b[0;34m)\u001b[0m \u001b[0;32mfor\u001b[0m \u001b[0mx\u001b[0m \u001b[0;32min\u001b[0m \u001b[0minputs\u001b[0m\u001b[0;34m)\u001b[0m\u001b[0;34m:\u001b[0m\u001b[0;34m\u001b[0m\u001b[0m\n",
      "\u001b[0;32m/usr/local/lib/python3.6/site-packages/keras/backend/tensorflow_backend.py\u001b[0m in \u001b[0;36m_call\u001b[0;34m(self, inputs)\u001b[0m\n\u001b[1;32m   2634\u001b[0m                                 \u001b[0msymbol_vals\u001b[0m\u001b[0;34m,\u001b[0m\u001b[0;34m\u001b[0m\u001b[0m\n\u001b[1;32m   2635\u001b[0m                                 session)\n\u001b[0;32m-> 2636\u001b[0;31m         \u001b[0mfetched\u001b[0m \u001b[0;34m=\u001b[0m \u001b[0mself\u001b[0m\u001b[0;34m.\u001b[0m\u001b[0m_callable_fn\u001b[0m\u001b[0;34m(\u001b[0m\u001b[0;34m*\u001b[0m\u001b[0marray_vals\u001b[0m\u001b[0;34m)\u001b[0m\u001b[0;34m\u001b[0m\u001b[0m\n\u001b[0m\u001b[1;32m   2637\u001b[0m         \u001b[0;32mreturn\u001b[0m \u001b[0mfetched\u001b[0m\u001b[0;34m[\u001b[0m\u001b[0;34m:\u001b[0m\u001b[0mlen\u001b[0m\u001b[0;34m(\u001b[0m\u001b[0mself\u001b[0m\u001b[0;34m.\u001b[0m\u001b[0moutputs\u001b[0m\u001b[0;34m)\u001b[0m\u001b[0;34m]\u001b[0m\u001b[0;34m\u001b[0m\u001b[0m\n\u001b[1;32m   2638\u001b[0m \u001b[0;34m\u001b[0m\u001b[0m\n",
      "\u001b[0;32m/usr/local/lib/python3.6/site-packages/tensorflow/python/client/session.py\u001b[0m in \u001b[0;36m__call__\u001b[0;34m(self, *args, **kwargs)\u001b[0m\n\u001b[1;32m   1397\u001b[0m           ret = tf_session.TF_SessionRunCallable(\n\u001b[1;32m   1398\u001b[0m               \u001b[0mself\u001b[0m\u001b[0;34m.\u001b[0m\u001b[0m_session\u001b[0m\u001b[0;34m.\u001b[0m\u001b[0m_session\u001b[0m\u001b[0;34m,\u001b[0m \u001b[0mself\u001b[0m\u001b[0;34m.\u001b[0m\u001b[0m_handle\u001b[0m\u001b[0;34m,\u001b[0m \u001b[0margs\u001b[0m\u001b[0;34m,\u001b[0m \u001b[0mstatus\u001b[0m\u001b[0;34m,\u001b[0m\u001b[0;34m\u001b[0m\u001b[0m\n\u001b[0;32m-> 1399\u001b[0;31m               run_metadata_ptr)\n\u001b[0m\u001b[1;32m   1400\u001b[0m         \u001b[0;32mif\u001b[0m \u001b[0mrun_metadata\u001b[0m\u001b[0;34m:\u001b[0m\u001b[0;34m\u001b[0m\u001b[0m\n\u001b[1;32m   1401\u001b[0m           \u001b[0mproto_data\u001b[0m \u001b[0;34m=\u001b[0m \u001b[0mtf_session\u001b[0m\u001b[0;34m.\u001b[0m\u001b[0mTF_GetBuffer\u001b[0m\u001b[0;34m(\u001b[0m\u001b[0mrun_metadata_ptr\u001b[0m\u001b[0;34m)\u001b[0m\u001b[0;34m\u001b[0m\u001b[0m\n",
      "\u001b[0;31mKeyboardInterrupt\u001b[0m: "
     ]
    }
   ],
   "source": [
    "nr_epochs = 30\n",
    "history = model.fit(X_train, Y_train, epochs=nr_epochs, batch_size=32, validation_split=0.1)"
   ]
  },
  {
   "cell_type": "code",
   "execution_count": 34,
   "metadata": {},
   "outputs": [],
   "source": [
    "# nr_epochs = 30\n",
    "# history = model.fit(X_train_only_question, Y_train, epochs=nr_epochs, batch_size=32, validation_split=0.1)"
   ]
  },
  {
   "cell_type": "code",
   "execution_count": 35,
   "metadata": {},
   "outputs": [],
   "source": [
    "# model.save('model_' + composition_type + '_dropout_' + str(int(dropout_value*100)) + '_epochs_' + str(nr_epochs) + '.h5')  # creates a HDF5 file 'my_model.h5'\n",
    "# model = load_model('model_concatenate_dropout_30_epochs_30.h5')"
   ]
  },
  {
   "cell_type": "code",
   "execution_count": 36,
   "metadata": {
    "scrolled": false
   },
   "outputs": [
    {
     "data": {
      "image/png": "[encoded data removed]",
      "text/plain": [
       "<Figure size 864x864 with 1 Axes>"
      ]
     },
     "metadata": {},
     "output_type": "display_data"
    },
    {
     "data": {
      "text/plain": [
       "<Figure size 432x288 with 0 Axes>"
      ]
     },
     "metadata": {},
     "output_type": "display_data"
    },
    {
     "name": "stdout",
     "output_type": "stream",
     "text": [
      "0.0682110682110682\n"
     ]
    },
    {
     "data": {
      "image/png": "[encoded data removed]",
      "text/plain": [
       "<Figure size 864x864 with 1 Axes>"
      ]
     },
     "metadata": {},
     "output_type": "display_data"
    },
    {
     "data": {
      "text/plain": [
       "<Figure size 432x288 with 0 Axes>"
      ]
     },
     "metadata": {},
     "output_type": "display_data"
    }
   ],
   "source": [
    "# summarize history for accuracy\n",
    "plt.figure(figsize=(12,12))\n",
    "plt.plot(history.history['acc'])\n",
    "plt.plot(history.history['val_acc'])\n",
    "plt.title('model accuracy')\n",
    "plt.ylabel('accuracy')\n",
    "plt.xlabel('epoch')\n",
    "plt.legend(['train', 'test'], loc='upper left')\n",
    "fig = plt.figure()\n",
    "fig.savefig('accuracy_graph_' + composition_type + '_dropout_' + str(int(dropout_value*100)) + '_epochs_' + str(nr_epochs) + '.png')\n",
    "plt.show()\n",
    "plt.close(fig)\n",
    "print(max(history.history['val_acc']))\n",
    "# with open('max_val_acc_for_' + composition_type + '_dropout_' + str(int(dropout_value*100)) + '_epochs_' + str(nr_epochs) + '.txt', 'w') as max_val_file:\n",
    "#     max_val_file.write('Maximum validation accuracy: ' + str(max(history.history['val_acc'])))\n",
    "\n",
    "# summarize history for loss\n",
    "plt.figure(figsize=(12,12))\n",
    "plt.plot(history.history['loss'])\n",
    "plt.plot(history.history['val_loss'])\n",
    "plt.title('model loss')\n",
    "plt.ylabel('loss')\n",
    "plt.xlabel('epoch')\n",
    "plt.legend(['train', 'test'], loc='upper left')\n",
    "fig = plt.figure()\n",
    "fig.savefig('loss_graph_' + composition_type + '_dropout_' + str(int(dropout_value*100)) + '_epochs_' + str(nr_epochs) + '.png')\n",
    "plt.show()\n",
    "plt.close(fig)"
   ]
  },
  {
   "cell_type": "code",
   "execution_count": 52,
   "metadata": {},
   "outputs": [
    {
     "name": "stdout",
     "output_type": "stream",
     "text": [
      "a test question: what is on the left side of the fire extinguisher and on the right side of the chair ?\n",
      "the dataset answer: table\n",
      "the predicted answer: door\n",
      "image: image1\n"
     ]
    }
   ],
   "source": [
    "print('a test question:', ' '.join([vocab[wid] for sent in X_test[0][1:2] for wid in sent if wid != 0]))\n",
    "print('the dataset answer:', ' '.join([answers[wid] for wid in Y_test[1:2] ]))\n",
    "print('the predicted answer:', answers[np.argmax(model.predict([X_test[0][1:2], X_test[1][1:2]]), 1)[0]])\n",
    "print('image:', [image_name.strip() for image_name in open('data/daquar/qa.894.raw.test.format_triple.contexts')][1])"
   ]
  },
  {
   "cell_type": "markdown",
   "metadata": {},
   "source": [
    "![](data/daquar/images/image1.png)"
   ]
  },
  {
   "cell_type": "code",
   "execution_count": null,
   "metadata": {},
   "outputs": [],
   "source": [
    "results = np.argmax(model.predict(X_test), 1)\n",
    "predicted_answer_list = []\n",
    "for i in range(0,6561):\n",
    "    ansvar = answers[results[i]]\n",
    "    predicted_answer_list.append(ansvar)\n",
    "# print (predicted_answer_list)\n",
    "print (len(predicted_answer_list))\n",
    "\n",
    "\n",
    "def most_common(lst):\n",
    "    return max(set(lst), key=lst.count)\n",
    "\n",
    "most_common_answer = most_common(predicted_answer_list)\n",
    "print(most_common_answer)\n",
    "print(predicted_answer_list.count(most_common_answer))"
   ]
  },
  {
   "cell_type": "code",
   "execution_count": null,
   "metadata": {},
   "outputs": [],
   "source": [
    "X_test[0][10]"
   ]
  },
  {
   "cell_type": "code",
   "execution_count": null,
   "metadata": {},
   "outputs": [],
   "source": [
    "index2sent = lambda x: ' '.join([vocab[wid] for wid in x if wid != 0])\n",
    "index2sent(X_test[0][9]), answers[Y_test[9]], answers[results[9]]"
   ]
  },
  {
   "cell_type": "markdown",
   "metadata": {},
   "source": [
    "![](data/daquar/images/image2.png)"
   ]
  },
  {
   "cell_type": "code",
   "execution_count": null,
   "metadata": {},
   "outputs": [],
   "source": [
    "! head -120 data/daquar/qa.894.raw.test.format_triple "
   ]
  },
  {
   "cell_type": "code",
   "execution_count": 34,
   "metadata": {
    "scrolled": false
   },
   "outputs": [
    {
     "name": "stdout",
     "output_type": "stream",
     "text": [
      "<class 'tensorflow.python.framework.ops.Tensor'>\n",
      "(?, 100352)\n",
      "(?, 300)\n",
      "<class 'tensorflow.python.framework.ops.Tensor'>\n",
      "(?, 7, 7, 2348)\n",
      "(?, ?)\n",
      "(?, 49)\n",
      "(?, 7, 7, 1)\n",
      "(?, 7, 7, 2048)\n",
      "shape of vis and text2\n",
      "(?, 7, 7, 2348)\n",
      "(?, 2048)\n",
      "500\n",
      "(?, 500)\n",
      "__________________________________________________________________________________________________\n",
      "Layer (type)                    Output Shape         Param #     Connected to                     \n",
      "==================================================================================================\n",
      "input_1 (InputLayer)            (None, 29)           0                                            \n",
      "__________________________________________________________________________________________________\n",
      "input_2 (InputLayer)            (None, 100352)       0                                            \n",
      "__________________________________________________________________________________________________\n",
      "embedding_1 (Embedding)         (None, 29, 300)      263700      input_1[0][0]                    \n",
      "__________________________________________________________________________________________________\n",
      "lambda_1 (Lambda)               (None, 7, 7, 2048)   0           input_2[0][0]                    \n",
      "__________________________________________________________________________________________________\n",
      "lstm_1 (LSTM)                   (None, 300)          721200      embedding_1[0][0]                \n",
      "__________________________________________________________________________________________________\n",
      "lambda_2 (Lambda)               (None, 7, 7, 2348)   0           lambda_1[0][0]                   \n",
      "                                                                 lstm_1[0][0]                     \n",
      "__________________________________________________________________________________________________\n",
      "flatten_1 (Flatten)             (None, 115052)       0           lambda_2[0][0]                   \n",
      "__________________________________________________________________________________________________\n",
      "dense_1 (Dense)                 (None, 49)           5637597     flatten_1[0][0]                  \n",
      "__________________________________________________________________________________________________\n",
      "reshape_1 (Reshape)             (None, 7, 7, 1)      0           dense_1[0][0]                    \n",
      "__________________________________________________________________________________________________\n",
      "lambda_3 (Lambda)               (None, 7, 7, 2048)   0           lambda_1[0][0]                   \n",
      "                                                                 reshape_1[0][0]                  \n",
      "__________________________________________________________________________________________________\n",
      "lambda_4 (Lambda)               (None, 7, 7, 2348)   0           lambda_3[0][0]                   \n",
      "                                                                 lstm_1[0][0]                     \n",
      "__________________________________________________________________________________________________\n",
      "flatten_2 (Flatten)             (None, 115052)       0           lambda_4[0][0]                   \n",
      "__________________________________________________________________________________________________\n",
      "dense_2 (Dense)                 (None, 2048)         235628544   flatten_2[0][0]                  \n",
      "__________________________________________________________________________________________________\n",
      "dropout_1 (Dropout)             (None, 2048)         0           dense_2[0][0]                    \n",
      "__________________________________________________________________________________________________\n",
      "dense_3 (Dense)                 (None, 500)          1024500     dropout_1[0][0]                  \n",
      "==================================================================================================\n",
      "Total params: 243,275,541\n",
      "Trainable params: 243,275,541\n",
      "Non-trainable params: 0\n",
      "__________________________________________________________________________________________________\n"
     ]
    }
   ],
   "source": [
    "# Network with attention\n",
    "\n",
    "dropout_value = 0.3\n",
    "embedding_output_dim = 300\n",
    "#choose what composition type will be used\n",
    "composition_1 = \"comp1\"\n",
    "composition_2 = \"comp1\"\n",
    "\n",
    "input_question = Input([question_len+1,])\n",
    "# print(input_question.shape)\n",
    "print(type(input_question))\n",
    "input_context = Input([7*7*2048,])\n",
    "print (input_context.shape)\n",
    "# learn embedings (size=300 as we chose just now :D)\n",
    "q_embs = Embedding(len(vocab), embedding_output_dim)(input_question)\n",
    "\n",
    "\n",
    "v_reshaped = Lambda(lambda x: K.reshape(x, [-1, 7, 7, 2048]))([input_context])\n",
    "\n",
    "# encode the question\n",
    "q_encoded = LSTM(embedding_output_dim, return_sequences=False)(q_embs)\n",
    "print (q_encoded.shape)\n",
    "print(type(q_encoded))\n",
    "\n",
    "\n",
    "vis_and_text = cross_modal_comp1(v_reshaped, q_encoded)\n",
    "\n",
    "print (vis_and_text.shape)\n",
    "\n",
    "#attention\n",
    "comp = Flatten()(vis_and_text)\n",
    "print (comp.shape)\n",
    "alpha = Dense(49, activation='softmax')(comp)\n",
    "print (alpha.shape)\n",
    "alpha = Reshape([7,7,1])(alpha)\n",
    "print (alpha.shape)\n",
    "\n",
    "ski_mask = Lambda(lambda x: x[0] * x[1])([v_reshaped, alpha])\n",
    "\n",
    "print(ski_mask.shape)\n",
    "vis_and_text2 = cross_modal_comp1(ski_mask, q_encoded)\n",
    "print('shape of vis and text2')\n",
    "print(vis_and_text2.shape)\n",
    "\n",
    "comp2 = Flatten()(vis_and_text2)\n",
    "mlp_2 = Dropout(dropout_value)(Dense(visual_vec_len, activation='relu')(comp2))\n",
    "print(mlp_2.shape)\n",
    "print(len(answers))\n",
    "final_a = Dense(len(answers), activation='softmax')(mlp_2)\n",
    "print(final_a.shape)\n",
    "model = Model([input_question, input_context], final_a)\n",
    "# model = Model(inputs = (input_question, input_context), outputs = final_a)\n",
    "model.summary()"
   ]
  },
  {
   "cell_type": "markdown",
   "metadata": {},
   "source": [
    "#Train the model"
   ]
  },
  {
   "cell_type": "code",
   "execution_count": 35,
   "metadata": {},
   "outputs": [],
   "source": [
    "# what is the loss, and how the parameters should be updated:\n",
    "model.compile('adam', 'sparse_categorical_crossentropy', metrics = ['accuracy'])"
   ]
  },
  {
   "cell_type": "code",
   "execution_count": 36,
   "metadata": {},
   "outputs": [],
   "source": [
    "from keras.utils import plot_model\n",
    "plot_model(model, to_file='barzagli_attention_model_graph_' + 'composition_one_' + composition_1 + '_composition_two_' + composition_2 +'.png', show_shapes=True)"
   ]
  },
  {
   "cell_type": "code",
   "execution_count": 37,
   "metadata": {},
   "outputs": [
    {
     "name": "stdout",
     "output_type": "stream",
     "text": [
      "Train on 6991 samples, validate on 777 samples\n",
      "Epoch 1/30\n",
      "6991/6991 [==============================] - 55s 8ms/step - loss: 5.1194 - acc: 0.0935 - val_loss: 4.9631 - val_acc: 0.0682\n",
      "Epoch 2/30\n",
      "6991/6991 [==============================] - 38s 5ms/step - loss: 4.0972 - acc: 0.1704 - val_loss: 4.8273 - val_acc: 0.1042\n",
      "Epoch 3/30\n",
      "6991/6991 [==============================] - 38s 5ms/step - loss: 3.6112 - acc: 0.2167 - val_loss: 4.8594 - val_acc: 0.1133\n",
      "Epoch 4/30\n",
      "6991/6991 [==============================] - 38s 5ms/step - loss: 3.2043 - acc: 0.2661 - val_loss: 4.9670 - val_acc: 0.1313\n",
      "Epoch 5/30\n",
      "6991/6991 [==============================] - 37s 5ms/step - loss: 2.8982 - acc: 0.3051 - val_loss: 5.1715 - val_acc: 0.1326\n",
      "Epoch 6/30\n",
      "6991/6991 [==============================] - 38s 5ms/step - loss: 2.6604 - acc: 0.3383 - val_loss: 5.4338 - val_acc: 0.1248\n",
      "Epoch 7/30\n",
      "6991/6991 [==============================] - 38s 5ms/step - loss: 2.3743 - acc: 0.3791 - val_loss: 5.5233 - val_acc: 0.1429\n",
      "Epoch 8/30\n",
      "6991/6991 [==============================] - 38s 5ms/step - loss: 2.1762 - acc: 0.4234 - val_loss: 5.6733 - val_acc: 0.1634\n",
      "Epoch 9/30\n",
      "6991/6991 [==============================] - 38s 5ms/step - loss: 2.0339 - acc: 0.4487 - val_loss: 5.7706 - val_acc: 0.1519\n",
      "Epoch 10/30\n",
      "6991/6991 [==============================] - 37s 5ms/step - loss: 1.8930 - acc: 0.4742 - val_loss: 5.9026 - val_acc: 0.1236\n",
      "Epoch 11/30\n",
      "6991/6991 [==============================] - 37s 5ms/step - loss: 1.7378 - acc: 0.5211 - val_loss: 6.0691 - val_acc: 0.1557\n",
      "Epoch 12/30\n",
      "6991/6991 [==============================] - 37s 5ms/step - loss: 1.6520 - acc: 0.5453 - val_loss: 6.1864 - val_acc: 0.1519\n",
      "Epoch 13/30\n",
      "6991/6991 [==============================] - 37s 5ms/step - loss: 1.5661 - acc: 0.5666 - val_loss: 6.4030 - val_acc: 0.1403\n",
      "Epoch 14/30\n",
      "6991/6991 [==============================] - 38s 5ms/step - loss: 1.4617 - acc: 0.5922 - val_loss: 6.3929 - val_acc: 0.1686\n",
      "Epoch 15/30\n",
      "6991/6991 [==============================] - 37s 5ms/step - loss: 1.3913 - acc: 0.6182 - val_loss: 6.4522 - val_acc: 0.1519\n",
      "Epoch 16/30\n",
      "6991/6991 [==============================] - 38s 5ms/step - loss: 1.3286 - acc: 0.6280 - val_loss: 6.4927 - val_acc: 0.1673\n",
      "Epoch 17/30\n",
      "6991/6991 [==============================] - 37s 5ms/step - loss: 1.3030 - acc: 0.6418 - val_loss: 6.6953 - val_acc: 0.1763\n",
      "Epoch 18/30\n",
      "6991/6991 [==============================] - 37s 5ms/step - loss: 1.2206 - acc: 0.6588 - val_loss: 6.7527 - val_acc: 0.1441\n",
      "Epoch 19/30\n",
      "6991/6991 [==============================] - 38s 5ms/step - loss: 1.1969 - acc: 0.6657 - val_loss: 6.6785 - val_acc: 0.1660\n",
      "Epoch 20/30\n",
      "6991/6991 [==============================] - 38s 5ms/step - loss: 1.1705 - acc: 0.6704 - val_loss: 6.7903 - val_acc: 0.1776\n",
      "Epoch 21/30\n",
      "6991/6991 [==============================] - 38s 5ms/step - loss: 1.1583 - acc: 0.6802 - val_loss: 7.0978 - val_acc: 0.1570\n",
      "Epoch 22/30\n",
      "6991/6991 [==============================] - 37s 5ms/step - loss: 1.0957 - acc: 0.6970 - val_loss: 7.1013 - val_acc: 0.1480\n",
      "Epoch 23/30\n",
      "6991/6991 [==============================] - 37s 5ms/step - loss: 1.0932 - acc: 0.7033 - val_loss: 6.9658 - val_acc: 0.1725\n",
      "Epoch 24/30\n",
      "6991/6991 [==============================] - 37s 5ms/step - loss: 1.0991 - acc: 0.6989 - val_loss: 7.2541 - val_acc: 0.1660\n",
      "Epoch 25/30\n",
      "6991/6991 [==============================] - 37s 5ms/step - loss: 1.0412 - acc: 0.7136 - val_loss: 7.2686 - val_acc: 0.1583\n",
      "Epoch 26/30\n",
      "6991/6991 [==============================] - 37s 5ms/step - loss: 1.0183 - acc: 0.7171 - val_loss: 7.1925 - val_acc: 0.1622\n",
      "Epoch 27/30\n",
      "6991/6991 [==============================] - 37s 5ms/step - loss: 0.9988 - acc: 0.7274 - val_loss: 7.4055 - val_acc: 0.1712\n",
      "Epoch 28/30\n",
      "6991/6991 [==============================] - 37s 5ms/step - loss: 0.9973 - acc: 0.7278 - val_loss: 7.4735 - val_acc: 0.1622\n",
      "Epoch 29/30\n",
      "6991/6991 [==============================] - 37s 5ms/step - loss: 0.9740 - acc: 0.7307 - val_loss: 7.8325 - val_acc: 0.1725\n",
      "Epoch 30/30\n",
      "6991/6991 [==============================] - 38s 5ms/step - loss: 0.9658 - acc: 0.7352 - val_loss: 7.7309 - val_acc: 0.1789\n",
      "6562/6562 [==============================] - 10s 1ms/step\n",
      "['loss', 'acc']\n"
     ]
    }
   ],
   "source": [
    "nr_epochs = 30\n",
    "history = model.fit(X_train, Y_train, epochs=nr_epochs, batch_size=32, validation_split=0.1)\n",
    "scores = model.evaluate(X_test, Y_test)\n",
    "print (model.metrics_names)\n",
    "# print(\"\\n%s: %.2f%%\" % (model.metrics_names[1], scores[1]*100))"
   ]
  },
  {
   "cell_type": "code",
   "execution_count": 38,
   "metadata": {},
   "outputs": [],
   "source": [
    "# model.save('attention_model_' + 'composition_one_' + composition_1 + '_composition_two_' + composition_2 + '_dropout_' + str(int(dropout_value*100)) + '_epochs_' + str(nr_epochs) + '.h5')\n",
    "# #model = load_model('my_model.h5')"
   ]
  },
  {
   "cell_type": "code",
   "execution_count": 39,
   "metadata": {},
   "outputs": [
    {
     "data": {
      "image/png": "[encoded data removed]",
      "text/plain": [
       "<Figure size 864x864 with 1 Axes>"
      ]
     },
     "metadata": {},
     "output_type": "display_data"
    },
    {
     "data": {
      "text/plain": [
       "<Figure size 432x288 with 0 Axes>"
      ]
     },
     "metadata": {},
     "output_type": "display_data"
    },
    {
     "name": "stdout",
     "output_type": "stream",
     "text": [
      "0.1788931789027678\n"
     ]
    },
    {
     "data": {
      "image/png": "[encoded data removed]",
      "text/plain": [
       "<Figure size 864x864 with 1 Axes>"
      ]
     },
     "metadata": {},
     "output_type": "display_data"
    },
    {
     "data": {
      "text/plain": [
       "<Figure size 432x288 with 0 Axes>"
      ]
     },
     "metadata": {},
     "output_type": "display_data"
    }
   ],
   "source": [
    "# summarize history for accuracy\n",
    "plt.figure(figsize=(12,12))\n",
    "plt.plot(history.history['acc'])\n",
    "plt.plot(history.history['val_acc'])\n",
    "plt.title('model accuracy')\n",
    "plt.ylabel('accuracy')\n",
    "plt.xlabel('epoch')\n",
    "plt.legend(['train', 'test'], loc='upper left')\n",
    "fig = plt.figure()\n",
    "fig.savefig('barzagli_attention_accuracy_graph_' + 'composition_one_' + composition_1 + '_composition_two_' + composition_2 + '_dropout_' + str(int(dropout_value*100)) + '_epochs_' + str(nr_epochs) + '.png')\n",
    "plt.show()\n",
    "plt.close(fig)\n",
    "print(max(history.history['val_acc']))\n",
    "# with open('attention_max_val_acc_for_' + 'composition_one_' + composition_1 + '_composition_two_' + composition_2 + '_dropout_' + str(int(dropout_value*100)) + '_epochs_' + str(nr_epochs) + '.txt', 'w') as max_val_file:\n",
    "#     max_val_file.write('Maximum validation accuracy: ' + str(max(history.history['val_acc'])))\n",
    "\n",
    "# summarize history for loss\n",
    "plt.figure(figsize=(12,12))\n",
    "plt.plot(history.history['loss'])\n",
    "plt.plot(history.history['val_loss'])\n",
    "plt.title('model loss')\n",
    "plt.ylabel('loss')\n",
    "plt.xlabel('epoch')\n",
    "plt.legend(['train', 'test'], loc='upper left')\n",
    "fig = plt.figure()\n",
    "fig.savefig('barzagli_attention_loss_graph_' + 'composition_one_' + composition_1 + '_composition_two_' + composition_2 + '_dropout_' + str(int(dropout_value*100)) + '_epochs_' + str(nr_epochs) + '.png')\n",
    "plt.show()\n",
    "plt.close(fig)"
   ]
  },
  {
   "cell_type": "code",
   "execution_count": 40,
   "metadata": {},
   "outputs": [
    {
     "name": "stdout",
     "output_type": "stream",
     "text": [
      "a test question: what is on the left side of the fire extinguisher and on the right side of the chair ?\n",
      "the dataset answer: table\n",
      "the predicted answer: wall_divider\n",
      "image: image1\n"
     ]
    }
   ],
   "source": [
    "print('a test question:', ' '.join([vocab[wid] for sent in X_test[0][1:2] for wid in sent if wid != 0]))\n",
    "print('the dataset answer:', ' '.join([answers[wid] for wid in Y_test[1:2] ]))\n",
    "print('the predicted answer:', answers[np.argmax(model.predict([X_test[0][1:2], X_test[1][1:2]]), 1)[0]])\n",
    "print('image:', [image_name.strip() for image_name in open('data/daquar/qa.894.raw.test.format_triple.contexts')][1])"
   ]
  },
  {
   "cell_type": "code",
   "execution_count": null,
   "metadata": {},
   "outputs": [],
   "source": [
    "results = np.argmax(model.predict(X_test), 1)"
   ]
  },
  {
   "cell_type": "code",
   "execution_count": null,
   "metadata": {},
   "outputs": [],
   "source": [
    "X_test[0][10]"
   ]
  },
  {
   "cell_type": "code",
   "execution_count": null,
   "metadata": {},
   "outputs": [],
   "source": [
    "index2sent = lambda x: ' '.join([vocab[wid] for wid in x if wid != 0])\n",
    "index2sent(X_test[0][9]), answers[Y_test[9]], answers[results[9]]"
   ]
  },
  {
   "cell_type": "code",
   "execution_count": 122,
   "metadata": {},
   "outputs": [
    {
     "name": "stdout",
     "output_type": "stream",
     "text": [
      "<class 'tensorflow.python.framework.ops.Tensor'>\n",
      "(?, 100352)\n",
      "(?, 7, 7, 2048)\n",
      "(?, 300)\n",
      "<class 'tensorflow.python.framework.ops.Tensor'>\n",
      "(?, 2348)\n",
      "(?, 49)\n",
      "(?, 7, 7, 1)\n",
      "(?, 7, 7, 2048)\n",
      "shape of vis and text2\n",
      "(?, 2348)\n",
      "(?, 2048)\n",
      "500\n",
      "(?, 500)\n",
      "__________________________________________________________________________________________________\n",
      "Layer (type)                    Output Shape         Param #     Connected to                     \n",
      "==================================================================================================\n",
      "input_44 (InputLayer)           (None, 100352)       0                                            \n",
      "__________________________________________________________________________________________________\n",
      "reshape_35 (Reshape)            (None, 7, 7, 2048)   0           input_44[0][0]                   \n",
      "__________________________________________________________________________________________________\n",
      "input_43 (InputLayer)           (None, 29)           0                                            \n",
      "__________________________________________________________________________________________________\n",
      "average_pooling2d_28 (AveragePo (None, 1, 1, 2048)   0           reshape_35[0][0]                 \n",
      "__________________________________________________________________________________________________\n",
      "embedding_22 (Embedding)        (None, 29, 300)      263700      input_43[0][0]                   \n",
      "__________________________________________________________________________________________________\n",
      "flatten_33 (Flatten)            (None, 2048)         0           average_pooling2d_28[0][0]       \n",
      "__________________________________________________________________________________________________\n",
      "lstm_21 (LSTM)                  (None, 300)          721200      embedding_22[0][0]               \n",
      "__________________________________________________________________________________________________\n",
      "lambda_79 (Lambda)              (None, 2348)         0           flatten_33[0][0]                 \n",
      "                                                                 lstm_21[0][0]                    \n",
      "__________________________________________________________________________________________________\n",
      "dense_55 (Dense)                (None, 49)           115101      lambda_79[0][0]                  \n",
      "__________________________________________________________________________________________________\n",
      "lambda_78 (Lambda)              (None, 7, 7, 2048)   0           input_44[0][0]                   \n",
      "__________________________________________________________________________________________________\n",
      "reshape_36 (Reshape)            (None, 7, 7, 1)      0           dense_55[0][0]                   \n",
      "__________________________________________________________________________________________________\n",
      "lambda_80 (Lambda)              (None, 7, 7, 2048)   0           lambda_78[0][0]                  \n",
      "                                                                 reshape_36[0][0]                 \n",
      "__________________________________________________________________________________________________\n",
      "average_pooling2d_29 (AveragePo (None, 1, 1, 2048)   0           lambda_80[0][0]                  \n",
      "__________________________________________________________________________________________________\n",
      "flatten_34 (Flatten)            (None, 2048)         0           average_pooling2d_29[0][0]       \n",
      "__________________________________________________________________________________________________\n",
      "lambda_81 (Lambda)              (None, 2348)         0           flatten_34[0][0]                 \n",
      "                                                                 lstm_21[0][0]                    \n",
      "__________________________________________________________________________________________________\n",
      "dense_56 (Dense)                (None, 2048)         4810752     lambda_81[0][0]                  \n",
      "__________________________________________________________________________________________________\n",
      "dropout_18 (Dropout)            (None, 2048)         0           dense_56[0][0]                   \n",
      "__________________________________________________________________________________________________\n",
      "dense_57 (Dense)                (None, 500)          1024500     dropout_18[0][0]                 \n",
      "==================================================================================================\n",
      "Total params: 6,935,253\n",
      "Trainable params: 6,935,253\n",
      "Non-trainable params: 0\n",
      "__________________________________________________________________________________________________\n"
     ]
    }
   ],
   "source": [
    "# Trying to build a working attention network\n",
    "input_question = Input([question_len+1,])\n",
    "# print(input_question.shape)\n",
    "print(type(input_question))\n",
    "input_context = Input([7*7*2048,])\n",
    "print (input_context.shape)\n",
    "# learn embedings (size=300 as we chose just now :D)\n",
    "q_embs = Embedding(len(vocab), 300)(input_question)\n",
    "\n",
    "\n",
    "v_reshaped = Lambda(lambda x: K.reshape(x, [-1, 7, 7, 2048]))([input_context])\n",
    "\n",
    "vis_vec = Flatten()(AveragePooling2D([7,7])(Reshape([7,7,2048])(input_context)))\n",
    "\n",
    "print (v_reshaped.shape)\n",
    "# encode the question\n",
    "q_encoded = LSTM(300, return_sequences=False)(q_embs)\n",
    "print (q_encoded.shape)\n",
    "print(type(q_encoded))\n",
    "#cross modal composition\n",
    "\n",
    "\n",
    "vis_and_text = cross_modal_comp0(vis_vec, q_encoded)\n",
    "print(vis_and_text.shape)\n",
    "\n",
    "#attention\n",
    "# comp = Flatten()(vis_and_text)\n",
    "# print (comp.shape)\n",
    "alpha = Dense(49, activation='softmax')(vis_and_text)\n",
    "print (alpha.shape)\n",
    "alpha = Reshape([7,7,1])(alpha)\n",
    "print (alpha.shape)\n",
    "\n",
    "ski_mask = Lambda(lambda x: x[0] * x[1])([v_reshaped, alpha])\n",
    "\n",
    "print(ski_mask.shape)\n",
    "\n",
    "vis_vec2 = Flatten()(AveragePooling2D([7,7])(ski_mask))\n",
    "\n",
    "vis_and_text2 = cross_modal_comp0(vis_vec2, q_encoded)\n",
    "                    \n",
    "                     \n",
    "# vis_and_text2 = cross_modal_comp0(ski_mask, q_encoded)\n",
    "print('shape of vis and text2')\n",
    "print(vis_and_text2.shape)\n",
    "\n",
    "# comp2 = Flatten()(vis_and_text2)\n",
    "# mlp_2 = Dropout(0.5)(Dense(visual_vec_len, activation='relu')(vis_and_text2))\n",
    "mlp_2 = Dropout(0.5)(Dense(visual_vec_len, activation='relu')(vis_and_text2))\n",
    "print(mlp_2.shape)\n",
    "print(len(answers))\n",
    "final_a = Dense(len(answers), activation='softmax')(mlp_2)\n",
    "print(final_a.shape)\n",
    "model = Model([input_question, input_context], final_a)\n",
    "# model = Model(inputs = (input_question, input_context), outputs = final_a)\n",
    "model.summary()"
   ]
  },
  {
   "cell_type": "code",
   "execution_count": 123,
   "metadata": {},
   "outputs": [],
   "source": [
    "#Train the model"
   ]
  },
  {
   "cell_type": "code",
   "execution_count": 124,
   "metadata": {},
   "outputs": [],
   "source": [
    "# what is the loss, and how the parameters should be updated:\n",
    "model.compile('adam', 'sparse_categorical_crossentropy', metrics = ['accuracy'])"
   ]
  },
  {
   "cell_type": "code",
   "execution_count": 125,
   "metadata": {},
   "outputs": [
    {
     "name": "stdout",
     "output_type": "stream",
     "text": [
      "Train on 6991 samples, validate on 777 samples\n",
      "Epoch 1/30\n",
      "6991/6991 [==============================] - 24s 3ms/step - loss: 4.7958 - acc: 0.0754 - val_loss: 4.8444 - val_acc: 0.0772\n",
      "Epoch 2/30\n",
      "6991/6991 [==============================] - 21s 3ms/step - loss: 3.9288 - acc: 0.1619 - val_loss: 4.6386 - val_acc: 0.1197\n",
      "Epoch 3/30\n",
      "6991/6991 [==============================] - 21s 3ms/step - loss: 3.4364 - acc: 0.2229 - val_loss: 4.4795 - val_acc: 0.1725\n",
      "Epoch 4/30\n",
      "6991/6991 [==============================] - 21s 3ms/step - loss: 2.9954 - acc: 0.2857 - val_loss: 4.5466 - val_acc: 0.1853\n",
      "Epoch 5/30\n",
      "6991/6991 [==============================] - 21s 3ms/step - loss: 2.6135 - acc: 0.3370 - val_loss: 4.5139 - val_acc: 0.1866\n",
      "Epoch 6/30\n",
      "6991/6991 [==============================] - 21s 3ms/step - loss: 2.2581 - acc: 0.4021 - val_loss: 4.5310 - val_acc: 0.1918\n",
      "Epoch 7/30\n",
      "6991/6991 [==============================] - 20s 3ms/step - loss: 1.9395 - acc: 0.4533 - val_loss: 4.8050 - val_acc: 0.1686\n",
      "Epoch 8/30\n",
      "6991/6991 [==============================] - 20s 3ms/step - loss: 1.6904 - acc: 0.5002 - val_loss: 4.6726 - val_acc: 0.2265\n",
      "Epoch 9/30\n",
      "6991/6991 [==============================] - 20s 3ms/step - loss: 1.4525 - acc: 0.5487 - val_loss: 4.8439 - val_acc: 0.2355\n",
      "Epoch 10/30\n",
      "6991/6991 [==============================] - 20s 3ms/step - loss: 1.2669 - acc: 0.6015 - val_loss: 5.0313 - val_acc: 0.2008\n",
      "Epoch 11/30\n",
      "6991/6991 [==============================] - 21s 3ms/step - loss: 1.1225 - acc: 0.6378 - val_loss: 5.1108 - val_acc: 0.2304\n",
      "Epoch 12/30\n",
      "6991/6991 [==============================] - 21s 3ms/step - loss: 0.9974 - acc: 0.6760 - val_loss: 5.1775 - val_acc: 0.2136\n",
      "Epoch 13/30\n",
      "6991/6991 [==============================] - 20s 3ms/step - loss: 0.9049 - acc: 0.7099 - val_loss: 5.1535 - val_acc: 0.2111\n",
      "Epoch 14/30\n",
      "6991/6991 [==============================] - 21s 3ms/step - loss: 0.8128 - acc: 0.7319 - val_loss: 5.2730 - val_acc: 0.2227\n",
      "Epoch 15/30\n",
      "6991/6991 [==============================] - 20s 3ms/step - loss: 0.7619 - acc: 0.7515 - val_loss: 5.3263 - val_acc: 0.2420\n",
      "Epoch 16/30\n",
      "6991/6991 [==============================] - 21s 3ms/step - loss: 0.7062 - acc: 0.7683 - val_loss: 5.3797 - val_acc: 0.2201\n",
      "Epoch 17/30\n",
      "6991/6991 [==============================] - 20s 3ms/step - loss: 0.6654 - acc: 0.7781 - val_loss: 5.4684 - val_acc: 0.2278\n",
      "Epoch 18/30\n",
      "6991/6991 [==============================] - 20s 3ms/step - loss: 0.6410 - acc: 0.7847 - val_loss: 5.4841 - val_acc: 0.2175\n",
      "Epoch 19/30\n",
      "6991/6991 [==============================] - 20s 3ms/step - loss: 0.6196 - acc: 0.7942 - val_loss: 5.7053 - val_acc: 0.2008\n",
      "Epoch 20/30\n",
      "6991/6991 [==============================] - 20s 3ms/step - loss: 0.5805 - acc: 0.7976 - val_loss: 5.5665 - val_acc: 0.2085\n",
      "Epoch 21/30\n",
      "6991/6991 [==============================] - 21s 3ms/step - loss: 0.5781 - acc: 0.7979 - val_loss: 5.5530 - val_acc: 0.2214\n",
      "Epoch 22/30\n",
      "6991/6991 [==============================] - 21s 3ms/step - loss: 0.5457 - acc: 0.8109 - val_loss: 5.6732 - val_acc: 0.2033\n",
      "Epoch 23/30\n",
      "6991/6991 [==============================] - 21s 3ms/step - loss: 0.5243 - acc: 0.8113 - val_loss: 5.6314 - val_acc: 0.2188\n",
      "Epoch 24/30\n",
      "6991/6991 [==============================] - 21s 3ms/step - loss: 0.5203 - acc: 0.8208 - val_loss: 5.7592 - val_acc: 0.2111\n",
      "Epoch 25/30\n",
      "6991/6991 [==============================] - 21s 3ms/step - loss: 0.5118 - acc: 0.8229 - val_loss: 5.7372 - val_acc: 0.2085\n",
      "Epoch 26/30\n",
      "6991/6991 [==============================] - 21s 3ms/step - loss: 0.5063 - acc: 0.8193 - val_loss: 5.8843 - val_acc: 0.2059\n",
      "Epoch 27/30\n",
      "6991/6991 [==============================] - 21s 3ms/step - loss: 0.4951 - acc: 0.8245 - val_loss: 5.7400 - val_acc: 0.2265\n",
      "Epoch 28/30\n",
      "6991/6991 [==============================] - 21s 3ms/step - loss: 0.4788 - acc: 0.8256 - val_loss: 5.7367 - val_acc: 0.2072\n",
      "Epoch 29/30\n",
      "6991/6991 [==============================] - 20s 3ms/step - loss: 0.4832 - acc: 0.8256 - val_loss: 5.7978 - val_acc: 0.2149\n",
      "Epoch 30/30\n",
      "6991/6991 [==============================] - 21s 3ms/step - loss: 0.4734 - acc: 0.8242 - val_loss: 5.6042 - val_acc: 0.2136\n",
      "6562/6562 [==============================] - 8s 1ms/step\n",
      "['loss', 'acc']\n"
     ]
    }
   ],
   "source": [
    "history = model.fit(X_train, Y_train, epochs=30, batch_size=32, validation_split=0.1)\n",
    "scores = model.evaluate(X_test, Y_test)\n",
    "print (model.metrics_names)\n",
    "# print(\"\\n%s: %.2f%%\" % (model.metrics_names[1], scores[1]*100))"
   ]
  },
  {
   "cell_type": "code",
   "execution_count": 126,
   "metadata": {},
   "outputs": [
    {
     "data": {
      "image/png": "[encoded data removed]",
      "text/plain": [
       "<Figure size 864x864 with 1 Axes>"
      ]
     },
     "metadata": {},
     "output_type": "display_data"
    },
    {
     "data": {
      "text/plain": [
       "<Figure size 432x288 with 0 Axes>"
      ]
     },
     "metadata": {},
     "output_type": "display_data"
    },
    {
     "name": "stdout",
     "output_type": "stream",
     "text": [
      "0.24195624197541976\n"
     ]
    },
    {
     "data": {
      "image/png": "[encoded data removed]",
      "text/plain": [
       "<Figure size 864x864 with 1 Axes>"
      ]
     },
     "metadata": {},
     "output_type": "display_data"
    },
    {
     "data": {
      "text/plain": [
       "<Figure size 432x288 with 0 Axes>"
      ]
     },
     "metadata": {},
     "output_type": "display_data"
    }
   ],
   "source": [
    "# summarize history for accuracy\n",
    "plt.figure(figsize=(12,12))\n",
    "plt.plot(history.history['acc'])\n",
    "plt.plot(history.history['val_acc'])\n",
    "plt.title('model accuracy')\n",
    "plt.ylabel('accuracy')\n",
    "plt.xlabel('epoch')\n",
    "plt.legend(['train', 'test'], loc='upper left')\n",
    "fig = plt.figure()\n",
    "fig.savefig('barzagli_attention_accuracy_graph_' + 'composition_one_' + composition_1 + '_composition_two_' + composition_2 + '_dropout_' + str(int(dropout_value*100)) + '_epochs_' + str(nr_epochs) + '.png')\n",
    "plt.show()\n",
    "plt.close(fig)\n",
    "print(max(history.history['val_acc']))\n",
    "# with open('attention_max_val_acc_for_' + 'composition_one_' + composition_1 + '_composition_two_' + composition_2 + '_dropout_' + str(int(dropout_value*100)) + '_epochs_' + str(nr_epochs) + '.txt', 'w') as max_val_file:\n",
    "#     max_val_file.write('Maximum validation accuracy: ' + str(max(history.history['val_acc'])))\n",
    "\n",
    "# summarize history for loss\n",
    "plt.figure(figsize=(12,12))\n",
    "plt.plot(history.history['loss'])\n",
    "plt.plot(history.history['val_loss'])\n",
    "plt.title('model loss')\n",
    "plt.ylabel('loss')\n",
    "plt.xlabel('epoch')\n",
    "plt.legend(['train', 'test'], loc='upper left')\n",
    "fig = plt.figure()\n",
    "fig.savefig('barzagli_attention_loss_graph_' + 'composition_one_' + composition_1 + '_composition_two_' + composition_2 + '_dropout_' + str(int(dropout_value*100)) + '_epochs_' + str(nr_epochs) + '.png')\n",
    "plt.show()"
   ]
  },
  {
   "cell_type": "code",
   "execution_count": 96,
   "metadata": {},
   "outputs": [
    {
     "name": "stdout",
     "output_type": "stream",
     "text": [
      "a test question: what is on the left side of the fire extinguisher and on the right side of the chair ?\n",
      "the dataset answer: table\n",
      "the predicted answer: toy\n",
      "image: image1\n"
     ]
    }
   ],
   "source": [
    "print('a test question:', ' '.join([vocab[wid] for sent in X_test[0][1:2] for wid in sent if wid != 0]))\n",
    "print('the dataset answer:', ' '.join([answers[wid] for wid in Y_test[1:2] ]))\n",
    "print('the predicted answer:', answers[np.argmax(model.predict([X_test[0][1:2], X_test[1][1:2]]), 1)[0]])\n",
    "print('image:', [image_name.strip() for image_name in open('data/daquar/qa.894.raw.test.format_triple.contexts')][1])"
   ]
  },
  {
   "cell_type": "code",
   "execution_count": null,
   "metadata": {},
   "outputs": [],
   "source": [
    "results = np.argmax(model.predict(X_test), 1)"
   ]
  },
  {
   "cell_type": "code",
   "execution_count": null,
   "metadata": {},
   "outputs": [],
   "source": [
    "X_test[0][10]"
   ]
  },
  {
   "cell_type": "code",
   "execution_count": null,
   "metadata": {},
   "outputs": [],
   "source": [
    "index2sent = lambda x: ' '.join([vocab[wid] for wid in x if wid != 0])\n",
    "index2sent(X_test[0][9]), answers[Y_test[9]], answers[results[9]]"
   ]
  },
  {
   "cell_type": "markdown",
   "metadata": {},
   "source": [
    "Another model"
   ]
  },
  {
   "cell_type": "code",
   "execution_count": null,
   "metadata": {},
   "outputs": [],
   "source": [
    "# # Trying to build a working attention network\n",
    "# input_question = Input([question_len+1,])\n",
    "# # print(input_question.shape)\n",
    "# print(type(input_question))\n",
    "# input_context = Input([7*7*2048,])\n",
    "# print (input_context.shape)\n",
    "# # learn embedings (size=50 as we chose just now :D)\n",
    "# q_embs = Embedding(len(vocab), 50)(input_question)\n",
    "\n",
    "\n",
    "# v_reshaped = Lambda(lambda x: K.reshape(x, [-1, 7, 7, 2048]))([input_context])\n",
    "\n",
    "# # encode the question\n",
    "# q_encoded = LSTM(50, return_sequences=False)(q_embs)\n",
    "# print (q_encoded.shape)\n",
    "# print(type(q_encoded))\n",
    "# #cross modal composition\n",
    "\n",
    "# vis_and_text = cross_modal_comp2(v_reshaped, q_encoded)\n",
    "# print(vis_and_text.shape)\n",
    "\n",
    "# #attention\n",
    "# # comp = Flatten()(vis_and_text)\n",
    "# # print (comp.shape)\n",
    "# alpha = Dense(49, activation='softmax')(vis_and_text)\n",
    "# print (alpha.shape)\n",
    "# alpha = Reshape([7,7,1])(alpha)\n",
    "# print (alpha.shape)\n",
    "\n",
    "# ski_mask = Lambda(lambda x: x[0] * x[1])([v_reshaped, alpha])\n",
    "\n",
    "# print(ski_mask.shape)\n",
    "# vis_and_text2 = cross_modal_comp1(ski_mask, q_encoded)\n",
    "# print('shape of vis and text2')\n",
    "# print(vis_and_text2.shape)\n",
    "\n",
    "# comp2 = Flatten()(vis_and_text2)\n",
    "# # mlp_2 = Dropout(0.5)(Dense(visual_vec_len, activation='relu')(vis_and_text2))\n",
    "# mlp_2 = Dropout(0.5)(Dense(visual_vec_len, activation='relu')(comp2))\n",
    "# print(mlp_2.shape)\n",
    "# print(len(answers))\n",
    "# final_a = Dense(len(answers), activation='softmax')(mlp_2)\n",
    "# print(final_a.shape)\n",
    "# model = Model([input_question, input_context], final_a)\n",
    "# # model = Model(inputs = (input_question, input_context), outputs = final_a)\n",
    "# model.summary()"
   ]
  },
  {
   "cell_type": "code",
   "execution_count": null,
   "metadata": {},
   "outputs": [],
   "source": [
    "# # what is the loss, and how the parameters should be updated:\n",
    "# model.compile('adam', 'sparse_categorical_crossentropy', metrics = ['accuracy'])"
   ]
  },
  {
   "cell_type": "code",
   "execution_count": null,
   "metadata": {},
   "outputs": [],
   "source": [
    "# model.fit(X_train, Y_train, epochs=1, batch_size=32, validation_split=0.1)\n",
    "# scores = model.evaluate(X_test, Y_test)\n",
    "# print (model.metrics_names)\n",
    "# # print(\"\\n%s: %.2f%%\" % (model.metrics_names[1], scores[1]*100))"
   ]
  },
  {
   "cell_type": "markdown",
   "metadata": {},
   "source": [
    "# Discussions"
   ]
  },
  {
   "cell_type": "code",
   "execution_count": null,
   "metadata": {},
   "outputs": [],
   "source": [
    "# the goal is come with discussions about what can be done better than what we have in this model."
   ]
  },
  {
   "cell_type": "code",
   "execution_count": null,
   "metadata": {},
   "outputs": [],
   "source": []
  },
  {
   "cell_type": "code",
   "execution_count": null,
   "metadata": {},
   "outputs": [],
   "source": []
  },
  {
   "cell_type": "code",
   "execution_count": null,
   "metadata": {},
   "outputs": [],
   "source": []
  },
  {
   "cell_type": "code",
   "execution_count": null,
   "metadata": {},
   "outputs": [],
   "source": []
  },
  {
   "cell_type": "code",
   "execution_count": null,
   "metadata": {},
   "outputs": [],
   "source": []
  },
  {
   "cell_type": "code",
   "execution_count": null,
   "metadata": {},
   "outputs": [],
   "source": []
  },
  {
   "cell_type": "code",
   "execution_count": null,
   "metadata": {},
   "outputs": [],
   "source": []
  },
  {
   "cell_type": "code",
   "execution_count": null,
   "metadata": {},
   "outputs": [],
   "source": []
  },
  {
   "cell_type": "code",
   "execution_count": null,
   "metadata": {},
   "outputs": [],
   "source": []
  },
  {
   "cell_type": "code",
   "execution_count": null,
   "metadata": {},
   "outputs": [],
   "source": []
  }
 ],
 "metadata": {
  "kernelspec": {
   "display_name": "Python 3",
   "language": "python",
   "name": "python3"
  },
  "language_info": {
   "codemirror_mode": {
    "name": "ipython",
    "version": 3
   },
   "file_extension": ".py",
   "mimetype": "text/x-python",
   "name": "python",
   "nbconvert_exporter": "python",
   "pygments_lexer": "ipython3",
   "version": "3.6.4"
  }
 },
 "nbformat": 4,
 "nbformat_minor": 2
}
